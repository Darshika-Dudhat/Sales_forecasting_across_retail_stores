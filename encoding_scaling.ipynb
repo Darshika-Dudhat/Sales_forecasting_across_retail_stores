{
 "cells": [
  {
   "cell_type": "code",
   "execution_count": 2,
   "metadata": {},
   "outputs": [],
   "source": [
    "import numpy as np\n",
    "import pandas as pd\n",
    "import matplotlib.pyplot as plt\n",
    "%matplotlib inline\n",
    "import seaborn as sns\n",
    "import logging\n",
    "from sklearn.preprocessing import LabelEncoder, StandardScaler\n",
    "from sklearn.model_selection import train_test_split\n",
    "from sklearn.metrics import mean_absolute_error, r2_score\n",
    "from sklearn.linear_model import LinearRegression, Ridge, Lasso\n",
    "from sklearn.ensemble import RandomForestRegressor, GradientBoostingRegressor\n",
    "from xgboost import XGBRegressor\n",
    "from sklearn.model_selection import RandomizedSearchCV\n",
    "from scipy.stats import zscore\n",
    "from sklearn.model_selection import GridSearchCV\n",
    "from xgboost import XGBRegressor\n",
    "from sklearn.ensemble import VotingRegressor\n",
    "from datetime import timedelta"
   ]
  },
  {
   "cell_type": "code",
   "execution_count": 3,
   "metadata": {},
   "outputs": [],
   "source": [
    "file_path_for_train_data = './rossmann-store-sales/train_data.csv'\n",
    "file_path_for_test_data = './rossmann-store-sales/test_data.csv'\n",
    "file_path_for_submission = './rossmann-store-sales/sample_submission.csv'"
   ]
  },
  {
   "cell_type": "code",
   "execution_count": 4,
   "metadata": {},
   "outputs": [],
   "source": [
    "Data_for_train = pd.read_csv(file_path_for_train_data,low_memory=False)"
   ]
  },
  {
   "cell_type": "code",
   "execution_count": 5,
   "metadata": {},
   "outputs": [],
   "source": [
    "Data_for_test = pd.read_csv(file_path_for_test_data,low_memory=False)"
   ]
  },
  {
   "cell_type": "code",
   "execution_count": 6,
   "metadata": {},
   "outputs": [
    {
     "data": {
      "text/plain": [
       "Index(['Store', 'DayOfWeek', 'Date', 'Sales', 'Customers', 'Open', 'Promo',\n",
       "       'StateHoliday', 'SchoolHoliday', 'Year', 'Month', 'Day', 'WeekOfYear',\n",
       "       'IsHoliday'],\n",
       "      dtype='object')"
      ]
     },
     "execution_count": 6,
     "metadata": {},
     "output_type": "execute_result"
    }
   ],
   "source": [
    "Data_for_train.columns"
   ]
  },
  {
   "cell_type": "code",
   "execution_count": 7,
   "metadata": {},
   "outputs": [
    {
     "data": {
      "text/plain": [
       "Store            0\n",
       "DayOfWeek        0\n",
       "Date             0\n",
       "Sales            0\n",
       "Customers        0\n",
       "Open             0\n",
       "Promo            0\n",
       "StateHoliday     0\n",
       "SchoolHoliday    0\n",
       "Year             0\n",
       "Month            0\n",
       "Day              0\n",
       "WeekOfYear       0\n",
       "IsHoliday        0\n",
       "dtype: int64"
      ]
     },
     "execution_count": 7,
     "metadata": {},
     "output_type": "execute_result"
    }
   ],
   "source": [
    "Data_for_train.isna().sum()"
   ]
  },
  {
   "cell_type": "code",
   "execution_count": 8,
   "metadata": {},
   "outputs": [
    {
     "data": {
      "text/plain": [
       "Id                0\n",
       "Store             0\n",
       "DayOfWeek         0\n",
       "Date              0\n",
       "Open             11\n",
       "Promo             0\n",
       "StateHoliday      0\n",
       "SchoolHoliday     0\n",
       "Year              0\n",
       "Month             0\n",
       "Day               0\n",
       "WeekOfYear        0\n",
       "IsHoliday         0\n",
       "dtype: int64"
      ]
     },
     "execution_count": 8,
     "metadata": {},
     "output_type": "execute_result"
    }
   ],
   "source": [
    "Data_for_test.isna().sum()"
   ]
  },
  {
   "cell_type": "code",
   "execution_count": 9,
   "metadata": {},
   "outputs": [],
   "source": [
    "# Handling missing values in 'Open' column (Test set)\n",
    "Data_for_test[\"Open\"] = Data_for_test[\"Open\"].fillna(1) # Assuming stores are open if missing"
   ]
  },
  {
   "cell_type": "code",
   "execution_count": 10,
   "metadata": {},
   "outputs": [
    {
     "data": {
      "text/plain": [
       "Index(['Id', 'Store', 'DayOfWeek', 'Date', 'Open', 'Promo', 'StateHoliday',\n",
       "       'SchoolHoliday', 'Year', 'Month', 'Day', 'WeekOfYear', 'IsHoliday'],\n",
       "      dtype='object')"
      ]
     },
     "execution_count": 10,
     "metadata": {},
     "output_type": "execute_result"
    }
   ],
   "source": [
    "Data_for_test.columns"
   ]
  },
  {
   "cell_type": "code",
   "execution_count": 11,
   "metadata": {},
   "outputs": [
    {
     "data": {
      "text/plain": [
       "Index(['Store', 'DayOfWeek', 'Date', 'Sales', 'Customers', 'Open', 'Promo',\n",
       "       'StateHoliday', 'SchoolHoliday', 'Year', 'Month', 'Day', 'WeekOfYear',\n",
       "       'IsHoliday'],\n",
       "      dtype='object')"
      ]
     },
     "execution_count": 11,
     "metadata": {},
     "output_type": "execute_result"
    }
   ],
   "source": [
    "Data_for_train.columns"
   ]
  },
  {
   "cell_type": "code",
   "execution_count": 12,
   "metadata": {},
   "outputs": [],
   "source": [
    "# Convert 'Date' column to datetime format\n",
    "Data_for_train[\"Date\"] = pd.to_datetime(Data_for_train[\"Date\"])\n",
    "Data_for_test[\"Date\"] = pd.to_datetime(Data_for_test[\"Date\"], errors='coerce')"
   ]
  },
  {
   "cell_type": "code",
   "execution_count": 13,
   "metadata": {},
   "outputs": [],
   "source": [
    "# Extract datetime features\n",
    "def extract_date_features(df):\n",
    "    df[\"Weekday\"] = df[\"Date\"].dt.weekday  # 0 = Monday, 6 = Sunday\n",
    "    df[\"MonthStart\"] = (df[\"Date\"].dt.day <= 7).astype(int)\n",
    "    df[\"MonthMid\"] = ((df[\"Date\"].dt.day > 7) & (df[\"Date\"].dt.day <= 21)).astype(int)\n",
    "    df[\"MonthEnd\"] = (df[\"Date\"].dt.day > 21).astype(int)\n",
    "    return df"
   ]
  },
  {
   "cell_type": "code",
   "execution_count": 14,
   "metadata": {},
   "outputs": [],
   "source": [
    "train_df = extract_date_features(Data_for_train)\n",
    "test_df = extract_date_features(Data_for_test)"
   ]
  },
  {
   "cell_type": "code",
   "execution_count": 15,
   "metadata": {},
   "outputs": [
    {
     "data": {
      "text/html": [
       "<div>\n",
       "<style scoped>\n",
       "    .dataframe tbody tr th:only-of-type {\n",
       "        vertical-align: middle;\n",
       "    }\n",
       "\n",
       "    .dataframe tbody tr th {\n",
       "        vertical-align: top;\n",
       "    }\n",
       "\n",
       "    .dataframe thead th {\n",
       "        text-align: right;\n",
       "    }\n",
       "</style>\n",
       "<table border=\"1\" class=\"dataframe\">\n",
       "  <thead>\n",
       "    <tr style=\"text-align: right;\">\n",
       "      <th></th>\n",
       "      <th>Store</th>\n",
       "      <th>DayOfWeek</th>\n",
       "      <th>Date</th>\n",
       "      <th>Sales</th>\n",
       "      <th>Customers</th>\n",
       "      <th>Open</th>\n",
       "      <th>Promo</th>\n",
       "      <th>StateHoliday</th>\n",
       "      <th>SchoolHoliday</th>\n",
       "      <th>Year</th>\n",
       "      <th>Month</th>\n",
       "      <th>Day</th>\n",
       "      <th>WeekOfYear</th>\n",
       "      <th>IsHoliday</th>\n",
       "      <th>Weekday</th>\n",
       "      <th>MonthStart</th>\n",
       "      <th>MonthMid</th>\n",
       "      <th>MonthEnd</th>\n",
       "    </tr>\n",
       "  </thead>\n",
       "  <tbody>\n",
       "    <tr>\n",
       "      <th>0</th>\n",
       "      <td>1</td>\n",
       "      <td>5</td>\n",
       "      <td>2015-07-31</td>\n",
       "      <td>5263</td>\n",
       "      <td>555</td>\n",
       "      <td>1</td>\n",
       "      <td>1</td>\n",
       "      <td>0</td>\n",
       "      <td>1</td>\n",
       "      <td>2015</td>\n",
       "      <td>7</td>\n",
       "      <td>31</td>\n",
       "      <td>31</td>\n",
       "      <td>1</td>\n",
       "      <td>4</td>\n",
       "      <td>0</td>\n",
       "      <td>0</td>\n",
       "      <td>1</td>\n",
       "    </tr>\n",
       "    <tr>\n",
       "      <th>1</th>\n",
       "      <td>2</td>\n",
       "      <td>5</td>\n",
       "      <td>2015-07-31</td>\n",
       "      <td>6064</td>\n",
       "      <td>625</td>\n",
       "      <td>1</td>\n",
       "      <td>1</td>\n",
       "      <td>0</td>\n",
       "      <td>1</td>\n",
       "      <td>2015</td>\n",
       "      <td>7</td>\n",
       "      <td>31</td>\n",
       "      <td>31</td>\n",
       "      <td>1</td>\n",
       "      <td>4</td>\n",
       "      <td>0</td>\n",
       "      <td>0</td>\n",
       "      <td>1</td>\n",
       "    </tr>\n",
       "    <tr>\n",
       "      <th>2</th>\n",
       "      <td>3</td>\n",
       "      <td>5</td>\n",
       "      <td>2015-07-31</td>\n",
       "      <td>8314</td>\n",
       "      <td>821</td>\n",
       "      <td>1</td>\n",
       "      <td>1</td>\n",
       "      <td>0</td>\n",
       "      <td>1</td>\n",
       "      <td>2015</td>\n",
       "      <td>7</td>\n",
       "      <td>31</td>\n",
       "      <td>31</td>\n",
       "      <td>1</td>\n",
       "      <td>4</td>\n",
       "      <td>0</td>\n",
       "      <td>0</td>\n",
       "      <td>1</td>\n",
       "    </tr>\n",
       "    <tr>\n",
       "      <th>3</th>\n",
       "      <td>4</td>\n",
       "      <td>5</td>\n",
       "      <td>2015-07-31</td>\n",
       "      <td>13995</td>\n",
       "      <td>1498</td>\n",
       "      <td>1</td>\n",
       "      <td>1</td>\n",
       "      <td>0</td>\n",
       "      <td>1</td>\n",
       "      <td>2015</td>\n",
       "      <td>7</td>\n",
       "      <td>31</td>\n",
       "      <td>31</td>\n",
       "      <td>1</td>\n",
       "      <td>4</td>\n",
       "      <td>0</td>\n",
       "      <td>0</td>\n",
       "      <td>1</td>\n",
       "    </tr>\n",
       "    <tr>\n",
       "      <th>4</th>\n",
       "      <td>5</td>\n",
       "      <td>5</td>\n",
       "      <td>2015-07-31</td>\n",
       "      <td>4822</td>\n",
       "      <td>559</td>\n",
       "      <td>1</td>\n",
       "      <td>1</td>\n",
       "      <td>0</td>\n",
       "      <td>1</td>\n",
       "      <td>2015</td>\n",
       "      <td>7</td>\n",
       "      <td>31</td>\n",
       "      <td>31</td>\n",
       "      <td>1</td>\n",
       "      <td>4</td>\n",
       "      <td>0</td>\n",
       "      <td>0</td>\n",
       "      <td>1</td>\n",
       "    </tr>\n",
       "  </tbody>\n",
       "</table>\n",
       "</div>"
      ],
      "text/plain": [
       "   Store  DayOfWeek       Date  Sales  Customers  Open  Promo StateHoliday  \\\n",
       "0      1          5 2015-07-31   5263        555     1      1            0   \n",
       "1      2          5 2015-07-31   6064        625     1      1            0   \n",
       "2      3          5 2015-07-31   8314        821     1      1            0   \n",
       "3      4          5 2015-07-31  13995       1498     1      1            0   \n",
       "4      5          5 2015-07-31   4822        559     1      1            0   \n",
       "\n",
       "   SchoolHoliday  Year  Month  Day  WeekOfYear  IsHoliday  Weekday  \\\n",
       "0              1  2015      7   31          31          1        4   \n",
       "1              1  2015      7   31          31          1        4   \n",
       "2              1  2015      7   31          31          1        4   \n",
       "3              1  2015      7   31          31          1        4   \n",
       "4              1  2015      7   31          31          1        4   \n",
       "\n",
       "   MonthStart  MonthMid  MonthEnd  \n",
       "0           0         0         1  \n",
       "1           0         0         1  \n",
       "2           0         0         1  \n",
       "3           0         0         1  \n",
       "4           0         0         1  "
      ]
     },
     "execution_count": 15,
     "metadata": {},
     "output_type": "execute_result"
    }
   ],
   "source": [
    "train_df.head(5)"
   ]
  },
  {
   "cell_type": "code",
   "execution_count": 16,
   "metadata": {},
   "outputs": [],
   "source": [
    "categorical_cols_train = [col for col in Data_for_train.select_dtypes(include=[\"object\", \"category\"])]\n",
    "numerical_cols_for_train = [col for col in Data_for_train.select_dtypes(include=[\"number\"])]"
   ]
  },
  {
   "cell_type": "code",
   "execution_count": 17,
   "metadata": {},
   "outputs": [
    {
     "data": {
      "text/plain": [
       "(['StateHoliday'],\n",
       " ['Store',\n",
       "  'DayOfWeek',\n",
       "  'Sales',\n",
       "  'Customers',\n",
       "  'Open',\n",
       "  'Promo',\n",
       "  'SchoolHoliday',\n",
       "  'Year',\n",
       "  'Month',\n",
       "  'Day',\n",
       "  'WeekOfYear',\n",
       "  'IsHoliday',\n",
       "  'Weekday',\n",
       "  'MonthStart',\n",
       "  'MonthMid',\n",
       "  'MonthEnd'])"
      ]
     },
     "execution_count": 17,
     "metadata": {},
     "output_type": "execute_result"
    }
   ],
   "source": [
    "categorical_cols_train,numerical_cols_for_train"
   ]
  },
  {
   "cell_type": "code",
   "execution_count": 18,
   "metadata": {},
   "outputs": [
    {
     "name": "stdout",
     "output_type": "stream",
     "text": [
      "Updated Numerical Columns: ['Store', 'DayOfWeek', 'Customers', 'Open', 'Promo', 'SchoolHoliday', 'Year', 'Month', 'Day', 'WeekOfYear', 'IsHoliday', 'Weekday', 'MonthStart', 'MonthMid', 'MonthEnd']\n"
     ]
    }
   ],
   "source": [
    "# Remove \"Sales\" from the list\n",
    "numerical_cols_for_train = [col for col in numerical_cols_for_train if col != \"Sales\"]\n",
    "\n",
    "print(\"Updated Numerical Columns:\", numerical_cols_for_train)"
   ]
  },
  {
   "cell_type": "code",
   "execution_count": 19,
   "metadata": {},
   "outputs": [],
   "source": [
    "categorical_cols_test = [col for col in Data_for_test.select_dtypes(include=[\"object\", \"category\"])]\n",
    "numerical_cols_for_test = [col for col in Data_for_test.select_dtypes(include=[\"number\"])]"
   ]
  },
  {
   "cell_type": "code",
   "execution_count": 20,
   "metadata": {},
   "outputs": [
    {
     "data": {
      "text/plain": [
       "(['StateHoliday'],\n",
       " ['Id',\n",
       "  'Store',\n",
       "  'DayOfWeek',\n",
       "  'Open',\n",
       "  'Promo',\n",
       "  'SchoolHoliday',\n",
       "  'Year',\n",
       "  'Month',\n",
       "  'Day',\n",
       "  'WeekOfYear',\n",
       "  'IsHoliday',\n",
       "  'Weekday',\n",
       "  'MonthStart',\n",
       "  'MonthMid',\n",
       "  'MonthEnd'])"
      ]
     },
     "execution_count": 20,
     "metadata": {},
     "output_type": "execute_result"
    }
   ],
   "source": [
    "categorical_cols_test,numerical_cols_for_test"
   ]
  },
  {
   "cell_type": "code",
   "execution_count": 21,
   "metadata": {},
   "outputs": [
    {
     "data": {
      "text/plain": [
       "Index(['Id', 'Store', 'DayOfWeek', 'Date', 'Open', 'Promo', 'StateHoliday',\n",
       "       'SchoolHoliday', 'Year', 'Month', 'Day', 'WeekOfYear', 'IsHoliday',\n",
       "       'Weekday', 'MonthStart', 'MonthMid', 'MonthEnd'],\n",
       "      dtype='object')"
      ]
     },
     "execution_count": 21,
     "metadata": {},
     "output_type": "execute_result"
    }
   ],
   "source": [
    "Data_for_test.columns"
   ]
  },
  {
   "cell_type": "code",
   "execution_count": 22,
   "metadata": {},
   "outputs": [
    {
     "data": {
      "text/plain": [
       "Index(['Id', 'Store', 'DayOfWeek', 'Date', 'Open', 'Promo', 'StateHoliday',\n",
       "       'SchoolHoliday', 'Year', 'Month', 'Day', 'WeekOfYear', 'IsHoliday',\n",
       "       'Weekday', 'MonthStart', 'MonthMid', 'MonthEnd'],\n",
       "      dtype='object')"
      ]
     },
     "execution_count": 22,
     "metadata": {},
     "output_type": "execute_result"
    }
   ],
   "source": [
    "test_df.columns"
   ]
  },
  {
   "cell_type": "markdown",
   "metadata": {},
   "source": [
    "Code to get the future dates for next 6 weeks prediction..."
   ]
  },
  {
   "cell_type": "code",
   "execution_count": 23,
   "metadata": {},
   "outputs": [
    {
     "data": {
      "text/plain": [
       "Store                     int64\n",
       "DayOfWeek                 int64\n",
       "Date             datetime64[ns]\n",
       "Sales                     int64\n",
       "Customers                 int64\n",
       "Open                      int64\n",
       "Promo                     int64\n",
       "StateHoliday             object\n",
       "SchoolHoliday             int64\n",
       "Year                      int64\n",
       "Month                     int64\n",
       "Day                       int64\n",
       "WeekOfYear                int64\n",
       "IsHoliday                 int64\n",
       "Weekday                   int32\n",
       "MonthStart                int64\n",
       "MonthMid                  int64\n",
       "MonthEnd                  int64\n",
       "dtype: object"
      ]
     },
     "execution_count": 23,
     "metadata": {},
     "output_type": "execute_result"
    }
   ],
   "source": [
    "Data_for_train.dtypes"
   ]
  },
  {
   "cell_type": "code",
   "execution_count": 24,
   "metadata": {},
   "outputs": [
    {
     "data": {
      "text/plain": [
       "Index(['Store', 'DayOfWeek', 'Date', 'Sales', 'Customers', 'Open', 'Promo',\n",
       "       'StateHoliday', 'SchoolHoliday', 'Year', 'Month', 'Day', 'WeekOfYear',\n",
       "       'IsHoliday', 'Weekday', 'MonthStart', 'MonthMid', 'MonthEnd'],\n",
       "      dtype='object')"
      ]
     },
     "execution_count": 24,
     "metadata": {},
     "output_type": "execute_result"
    }
   ],
   "source": [
    "Data_for_train.columns"
   ]
  },
  {
   "cell_type": "code",
   "execution_count": 25,
   "metadata": {},
   "outputs": [],
   "source": [
    "# Get the last available date from training data\n",
    "last_date = Data_for_train[\"Date\"].max()"
   ]
  },
  {
   "cell_type": "code",
   "execution_count": 26,
   "metadata": {},
   "outputs": [
    {
     "data": {
      "text/plain": [
       "Timestamp('2015-07-31 00:00:00')"
      ]
     },
     "execution_count": 26,
     "metadata": {},
     "output_type": "execute_result"
    }
   ],
   "source": [
    "last_date"
   ]
  },
  {
   "cell_type": "code",
   "execution_count": 27,
   "metadata": {},
   "outputs": [],
   "source": [
    "# Generate future dates for the next 6 weeks (42 days)\n",
    "future_dates = [last_date + timedelta(days=i) for i in range(1, 43)]"
   ]
  },
  {
   "cell_type": "code",
   "execution_count": 28,
   "metadata": {},
   "outputs": [
    {
     "data": {
      "text/plain": [
       "[Timestamp('2015-08-01 00:00:00'),\n",
       " Timestamp('2015-08-02 00:00:00'),\n",
       " Timestamp('2015-08-03 00:00:00'),\n",
       " Timestamp('2015-08-04 00:00:00'),\n",
       " Timestamp('2015-08-05 00:00:00'),\n",
       " Timestamp('2015-08-06 00:00:00'),\n",
       " Timestamp('2015-08-07 00:00:00'),\n",
       " Timestamp('2015-08-08 00:00:00'),\n",
       " Timestamp('2015-08-09 00:00:00'),\n",
       " Timestamp('2015-08-10 00:00:00'),\n",
       " Timestamp('2015-08-11 00:00:00'),\n",
       " Timestamp('2015-08-12 00:00:00'),\n",
       " Timestamp('2015-08-13 00:00:00'),\n",
       " Timestamp('2015-08-14 00:00:00'),\n",
       " Timestamp('2015-08-15 00:00:00'),\n",
       " Timestamp('2015-08-16 00:00:00'),\n",
       " Timestamp('2015-08-17 00:00:00'),\n",
       " Timestamp('2015-08-18 00:00:00'),\n",
       " Timestamp('2015-08-19 00:00:00'),\n",
       " Timestamp('2015-08-20 00:00:00'),\n",
       " Timestamp('2015-08-21 00:00:00'),\n",
       " Timestamp('2015-08-22 00:00:00'),\n",
       " Timestamp('2015-08-23 00:00:00'),\n",
       " Timestamp('2015-08-24 00:00:00'),\n",
       " Timestamp('2015-08-25 00:00:00'),\n",
       " Timestamp('2015-08-26 00:00:00'),\n",
       " Timestamp('2015-08-27 00:00:00'),\n",
       " Timestamp('2015-08-28 00:00:00'),\n",
       " Timestamp('2015-08-29 00:00:00'),\n",
       " Timestamp('2015-08-30 00:00:00'),\n",
       " Timestamp('2015-08-31 00:00:00'),\n",
       " Timestamp('2015-09-01 00:00:00'),\n",
       " Timestamp('2015-09-02 00:00:00'),\n",
       " Timestamp('2015-09-03 00:00:00'),\n",
       " Timestamp('2015-09-04 00:00:00'),\n",
       " Timestamp('2015-09-05 00:00:00'),\n",
       " Timestamp('2015-09-06 00:00:00'),\n",
       " Timestamp('2015-09-07 00:00:00'),\n",
       " Timestamp('2015-09-08 00:00:00'),\n",
       " Timestamp('2015-09-09 00:00:00'),\n",
       " Timestamp('2015-09-10 00:00:00'),\n",
       " Timestamp('2015-09-11 00:00:00')]"
      ]
     },
     "execution_count": 28,
     "metadata": {},
     "output_type": "execute_result"
    }
   ],
   "source": [
    "future_dates"
   ]
  },
  {
   "cell_type": "code",
   "execution_count": 29,
   "metadata": {},
   "outputs": [],
   "source": [
    "# Create future dataset with only the columns in test data\n",
    "future_test_data = []\n",
    "for store in Data_for_train[\"Store\"].unique():\n",
    "    for date in future_dates:\n",
    "        future_test_data.append([store, date.year, date.month, date.day, date])"
   ]
  },
  {
   "cell_type": "code",
   "execution_count": 30,
   "metadata": {},
   "outputs": [],
   "source": [
    "# Convert to DataFrame\n",
    "future_test_df = pd.DataFrame(future_test_data, columns=[\"Store\", \"Year\", \"Month\", \"Day\", \"Date\"])"
   ]
  },
  {
   "cell_type": "code",
   "execution_count": 31,
   "metadata": {},
   "outputs": [
    {
     "data": {
      "text/html": [
       "<div>\n",
       "<style scoped>\n",
       "    .dataframe tbody tr th:only-of-type {\n",
       "        vertical-align: middle;\n",
       "    }\n",
       "\n",
       "    .dataframe tbody tr th {\n",
       "        vertical-align: top;\n",
       "    }\n",
       "\n",
       "    .dataframe thead th {\n",
       "        text-align: right;\n",
       "    }\n",
       "</style>\n",
       "<table border=\"1\" class=\"dataframe\">\n",
       "  <thead>\n",
       "    <tr style=\"text-align: right;\">\n",
       "      <th></th>\n",
       "      <th>Store</th>\n",
       "      <th>Year</th>\n",
       "      <th>Month</th>\n",
       "      <th>Day</th>\n",
       "      <th>Date</th>\n",
       "    </tr>\n",
       "  </thead>\n",
       "  <tbody>\n",
       "    <tr>\n",
       "      <th>0</th>\n",
       "      <td>1</td>\n",
       "      <td>2015</td>\n",
       "      <td>8</td>\n",
       "      <td>1</td>\n",
       "      <td>2015-08-01</td>\n",
       "    </tr>\n",
       "    <tr>\n",
       "      <th>1</th>\n",
       "      <td>1</td>\n",
       "      <td>2015</td>\n",
       "      <td>8</td>\n",
       "      <td>2</td>\n",
       "      <td>2015-08-02</td>\n",
       "    </tr>\n",
       "    <tr>\n",
       "      <th>2</th>\n",
       "      <td>1</td>\n",
       "      <td>2015</td>\n",
       "      <td>8</td>\n",
       "      <td>3</td>\n",
       "      <td>2015-08-03</td>\n",
       "    </tr>\n",
       "    <tr>\n",
       "      <th>3</th>\n",
       "      <td>1</td>\n",
       "      <td>2015</td>\n",
       "      <td>8</td>\n",
       "      <td>4</td>\n",
       "      <td>2015-08-04</td>\n",
       "    </tr>\n",
       "    <tr>\n",
       "      <th>4</th>\n",
       "      <td>1</td>\n",
       "      <td>2015</td>\n",
       "      <td>8</td>\n",
       "      <td>5</td>\n",
       "      <td>2015-08-05</td>\n",
       "    </tr>\n",
       "  </tbody>\n",
       "</table>\n",
       "</div>"
      ],
      "text/plain": [
       "   Store  Year  Month  Day       Date\n",
       "0      1  2015      8    1 2015-08-01\n",
       "1      1  2015      8    2 2015-08-02\n",
       "2      1  2015      8    3 2015-08-03\n",
       "3      1  2015      8    4 2015-08-04\n",
       "4      1  2015      8    5 2015-08-05"
      ]
     },
     "execution_count": 31,
     "metadata": {},
     "output_type": "execute_result"
    }
   ],
   "source": [
    "future_test_df.head(5)"
   ]
  },
  {
   "cell_type": "code",
   "execution_count": 32,
   "metadata": {},
   "outputs": [],
   "source": [
    "# Ensure 'Date' is in proper format\n",
    "future_test_df[\"Date\"] = pd.to_datetime(future_test_df[\"Date\"])"
   ]
  },
  {
   "cell_type": "code",
   "execution_count": 33,
   "metadata": {},
   "outputs": [],
   "source": [
    "# Compute missing columns\n",
    "future_test_df[\"Id\"] = range(1, len(future_test_df) + 1)  # Assign unique ID\n",
    "future_test_df[\"DayOfWeek\"] = future_test_df[\"Date\"].dt.weekday + 1  # Monday=1, Sunday=7\n",
    "\n",
    "future_test_df[\"Open\"] = 1  # Assume stores are open unless stated otherwise\n",
    "future_test_df[\"Promo\"] = 0  # Assume no promotion unless mapped\n",
    "future_test_df[\"StateHoliday\"] = \"0\"  # Assume no state holiday (change if dataset is available)\n",
    "future_test_df[\"SchoolHoliday\"] = 0  # Assume no school holiday (change if dataset is available)\n",
    "\n",
    "future_test_df[\"WeekOfYear\"] = future_test_df[\"Date\"].dt.isocalendar().week  # ISO Week\n",
    "future_test_df[\"Weekday\"] = future_test_df[\"Date\"].dt.weekday  # 0=Monday, 6=Sunday\n",
    "future_test_df[\"MonthStart\"] = (future_test_df[\"Day\"] == 1).astype(int)\n",
    "future_test_df[\"MonthMid\"] = ((future_test_df[\"Day\"] >= 10) & (future_test_df[\"Day\"] <= 20)).astype(int)\n",
    "future_test_df[\"MonthEnd\"] = (future_test_df[\"Day\"] >= 25).astype(int)"
   ]
  },
  {
   "cell_type": "code",
   "execution_count": 34,
   "metadata": {},
   "outputs": [],
   "source": [
    "# Handle future holidays (assume no holidays for now, but can be mapped)\n",
    "future_test_df[\"IsHoliday\"] = 0  # Can be updated with real holiday data if available"
   ]
  },
  {
   "cell_type": "code",
   "execution_count": 35,
   "metadata": {},
   "outputs": [
    {
     "data": {
      "text/plain": [
       "(46830, 17)"
      ]
     },
     "execution_count": 35,
     "metadata": {},
     "output_type": "execute_result"
    }
   ],
   "source": [
    "future_test_df.shape"
   ]
  },
  {
   "cell_type": "code",
   "execution_count": 36,
   "metadata": {},
   "outputs": [
    {
     "data": {
      "text/plain": [
       "Index(['Store', 'Year', 'Month', 'Day', 'Date', 'Id', 'DayOfWeek', 'Open',\n",
       "       'Promo', 'StateHoliday', 'SchoolHoliday', 'WeekOfYear', 'Weekday',\n",
       "       'MonthStart', 'MonthMid', 'MonthEnd', 'IsHoliday'],\n",
       "      dtype='object')"
      ]
     },
     "execution_count": 36,
     "metadata": {},
     "output_type": "execute_result"
    }
   ],
   "source": [
    "future_test_df.columns"
   ]
  },
  {
   "cell_type": "code",
   "execution_count": 37,
   "metadata": {},
   "outputs": [],
   "source": [
    "# Ensure future dataset has the same columns as the test dataset\n",
    "# Get available feature columns from test dataset\n",
    "test_columns = Data_for_test.columns.tolist()"
   ]
  },
  {
   "cell_type": "code",
   "execution_count": 38,
   "metadata": {},
   "outputs": [
    {
     "data": {
      "text/plain": [
       "['Id',\n",
       " 'Store',\n",
       " 'DayOfWeek',\n",
       " 'Date',\n",
       " 'Open',\n",
       " 'Promo',\n",
       " 'StateHoliday',\n",
       " 'SchoolHoliday',\n",
       " 'Year',\n",
       " 'Month',\n",
       " 'Day',\n",
       " 'WeekOfYear',\n",
       " 'IsHoliday',\n",
       " 'Weekday',\n",
       " 'MonthStart',\n",
       " 'MonthMid',\n",
       " 'MonthEnd']"
      ]
     },
     "execution_count": 38,
     "metadata": {},
     "output_type": "execute_result"
    }
   ],
   "source": [
    "test_columns"
   ]
  },
  {
   "cell_type": "code",
   "execution_count": 39,
   "metadata": {},
   "outputs": [
    {
     "data": {
      "text/plain": [
       "Index(['Store', 'Year', 'Month', 'Day', 'Date', 'Id', 'DayOfWeek', 'Open',\n",
       "       'Promo', 'StateHoliday', 'SchoolHoliday', 'WeekOfYear', 'Weekday',\n",
       "       'MonthStart', 'MonthMid', 'MonthEnd', 'IsHoliday'],\n",
       "      dtype='object')"
      ]
     },
     "execution_count": 39,
     "metadata": {},
     "output_type": "execute_result"
    }
   ],
   "source": [
    "future_test_df.columns"
   ]
  },
  {
   "cell_type": "code",
   "execution_count": 40,
   "metadata": {},
   "outputs": [],
   "source": [
    "# Identify missing columns\n",
    "missing_columns = [col for col in test_columns if col not in future_test_df.columns]"
   ]
  },
  {
   "cell_type": "code",
   "execution_count": 41,
   "metadata": {},
   "outputs": [
    {
     "data": {
      "text/plain": [
       "[]"
      ]
     },
     "execution_count": 41,
     "metadata": {},
     "output_type": "execute_result"
    }
   ],
   "source": [
    "missing_columns"
   ]
  },
  {
   "cell_type": "code",
   "execution_count": 42,
   "metadata": {},
   "outputs": [
    {
     "data": {
      "text/html": [
       "<div>\n",
       "<style scoped>\n",
       "    .dataframe tbody tr th:only-of-type {\n",
       "        vertical-align: middle;\n",
       "    }\n",
       "\n",
       "    .dataframe tbody tr th {\n",
       "        vertical-align: top;\n",
       "    }\n",
       "\n",
       "    .dataframe thead th {\n",
       "        text-align: right;\n",
       "    }\n",
       "</style>\n",
       "<table border=\"1\" class=\"dataframe\">\n",
       "  <thead>\n",
       "    <tr style=\"text-align: right;\">\n",
       "      <th></th>\n",
       "      <th>Store</th>\n",
       "      <th>Year</th>\n",
       "      <th>Month</th>\n",
       "      <th>Day</th>\n",
       "      <th>Date</th>\n",
       "      <th>Id</th>\n",
       "      <th>DayOfWeek</th>\n",
       "      <th>Open</th>\n",
       "      <th>Promo</th>\n",
       "      <th>StateHoliday</th>\n",
       "      <th>SchoolHoliday</th>\n",
       "      <th>WeekOfYear</th>\n",
       "      <th>Weekday</th>\n",
       "      <th>MonthStart</th>\n",
       "      <th>MonthMid</th>\n",
       "      <th>MonthEnd</th>\n",
       "      <th>IsHoliday</th>\n",
       "    </tr>\n",
       "  </thead>\n",
       "  <tbody>\n",
       "    <tr>\n",
       "      <th>0</th>\n",
       "      <td>1</td>\n",
       "      <td>2015</td>\n",
       "      <td>8</td>\n",
       "      <td>1</td>\n",
       "      <td>2015-08-01</td>\n",
       "      <td>1</td>\n",
       "      <td>6</td>\n",
       "      <td>1</td>\n",
       "      <td>0</td>\n",
       "      <td>0</td>\n",
       "      <td>0</td>\n",
       "      <td>31</td>\n",
       "      <td>5</td>\n",
       "      <td>1</td>\n",
       "      <td>0</td>\n",
       "      <td>0</td>\n",
       "      <td>0</td>\n",
       "    </tr>\n",
       "    <tr>\n",
       "      <th>1</th>\n",
       "      <td>1</td>\n",
       "      <td>2015</td>\n",
       "      <td>8</td>\n",
       "      <td>2</td>\n",
       "      <td>2015-08-02</td>\n",
       "      <td>2</td>\n",
       "      <td>7</td>\n",
       "      <td>1</td>\n",
       "      <td>0</td>\n",
       "      <td>0</td>\n",
       "      <td>0</td>\n",
       "      <td>31</td>\n",
       "      <td>6</td>\n",
       "      <td>0</td>\n",
       "      <td>0</td>\n",
       "      <td>0</td>\n",
       "      <td>0</td>\n",
       "    </tr>\n",
       "    <tr>\n",
       "      <th>2</th>\n",
       "      <td>1</td>\n",
       "      <td>2015</td>\n",
       "      <td>8</td>\n",
       "      <td>3</td>\n",
       "      <td>2015-08-03</td>\n",
       "      <td>3</td>\n",
       "      <td>1</td>\n",
       "      <td>1</td>\n",
       "      <td>0</td>\n",
       "      <td>0</td>\n",
       "      <td>0</td>\n",
       "      <td>32</td>\n",
       "      <td>0</td>\n",
       "      <td>0</td>\n",
       "      <td>0</td>\n",
       "      <td>0</td>\n",
       "      <td>0</td>\n",
       "    </tr>\n",
       "    <tr>\n",
       "      <th>3</th>\n",
       "      <td>1</td>\n",
       "      <td>2015</td>\n",
       "      <td>8</td>\n",
       "      <td>4</td>\n",
       "      <td>2015-08-04</td>\n",
       "      <td>4</td>\n",
       "      <td>2</td>\n",
       "      <td>1</td>\n",
       "      <td>0</td>\n",
       "      <td>0</td>\n",
       "      <td>0</td>\n",
       "      <td>32</td>\n",
       "      <td>1</td>\n",
       "      <td>0</td>\n",
       "      <td>0</td>\n",
       "      <td>0</td>\n",
       "      <td>0</td>\n",
       "    </tr>\n",
       "    <tr>\n",
       "      <th>4</th>\n",
       "      <td>1</td>\n",
       "      <td>2015</td>\n",
       "      <td>8</td>\n",
       "      <td>5</td>\n",
       "      <td>2015-08-05</td>\n",
       "      <td>5</td>\n",
       "      <td>3</td>\n",
       "      <td>1</td>\n",
       "      <td>0</td>\n",
       "      <td>0</td>\n",
       "      <td>0</td>\n",
       "      <td>32</td>\n",
       "      <td>2</td>\n",
       "      <td>0</td>\n",
       "      <td>0</td>\n",
       "      <td>0</td>\n",
       "      <td>0</td>\n",
       "    </tr>\n",
       "  </tbody>\n",
       "</table>\n",
       "</div>"
      ],
      "text/plain": [
       "   Store  Year  Month  Day       Date  Id  DayOfWeek  Open  Promo  \\\n",
       "0      1  2015      8    1 2015-08-01   1          6     1      0   \n",
       "1      1  2015      8    2 2015-08-02   2          7     1      0   \n",
       "2      1  2015      8    3 2015-08-03   3          1     1      0   \n",
       "3      1  2015      8    4 2015-08-04   4          2     1      0   \n",
       "4      1  2015      8    5 2015-08-05   5          3     1      0   \n",
       "\n",
       "  StateHoliday  SchoolHoliday  WeekOfYear  Weekday  MonthStart  MonthMid  \\\n",
       "0            0              0          31        5           1         0   \n",
       "1            0              0          31        6           0         0   \n",
       "2            0              0          32        0           0         0   \n",
       "3            0              0          32        1           0         0   \n",
       "4            0              0          32        2           0         0   \n",
       "\n",
       "   MonthEnd  IsHoliday  \n",
       "0         0          0  \n",
       "1         0          0  \n",
       "2         0          0  \n",
       "3         0          0  \n",
       "4         0          0  "
      ]
     },
     "execution_count": 42,
     "metadata": {},
     "output_type": "execute_result"
    }
   ],
   "source": [
    "future_test_df.head(5)"
   ]
  },
  {
   "cell_type": "code",
   "execution_count": 43,
   "metadata": {},
   "outputs": [],
   "source": [
    "# Reorder columns to match test dataset structure\n",
    "future_test_df = future_test_df[test_columns]"
   ]
  },
  {
   "cell_type": "code",
   "execution_count": 44,
   "metadata": {},
   "outputs": [
    {
     "data": {
      "text/html": [
       "<div>\n",
       "<style scoped>\n",
       "    .dataframe tbody tr th:only-of-type {\n",
       "        vertical-align: middle;\n",
       "    }\n",
       "\n",
       "    .dataframe tbody tr th {\n",
       "        vertical-align: top;\n",
       "    }\n",
       "\n",
       "    .dataframe thead th {\n",
       "        text-align: right;\n",
       "    }\n",
       "</style>\n",
       "<table border=\"1\" class=\"dataframe\">\n",
       "  <thead>\n",
       "    <tr style=\"text-align: right;\">\n",
       "      <th></th>\n",
       "      <th>Id</th>\n",
       "      <th>Store</th>\n",
       "      <th>DayOfWeek</th>\n",
       "      <th>Date</th>\n",
       "      <th>Open</th>\n",
       "      <th>Promo</th>\n",
       "      <th>StateHoliday</th>\n",
       "      <th>SchoolHoliday</th>\n",
       "      <th>Year</th>\n",
       "      <th>Month</th>\n",
       "      <th>Day</th>\n",
       "      <th>WeekOfYear</th>\n",
       "      <th>IsHoliday</th>\n",
       "      <th>Weekday</th>\n",
       "      <th>MonthStart</th>\n",
       "      <th>MonthMid</th>\n",
       "      <th>MonthEnd</th>\n",
       "    </tr>\n",
       "  </thead>\n",
       "  <tbody>\n",
       "    <tr>\n",
       "      <th>0</th>\n",
       "      <td>1</td>\n",
       "      <td>1</td>\n",
       "      <td>6</td>\n",
       "      <td>2015-08-01</td>\n",
       "      <td>1</td>\n",
       "      <td>0</td>\n",
       "      <td>0</td>\n",
       "      <td>0</td>\n",
       "      <td>2015</td>\n",
       "      <td>8</td>\n",
       "      <td>1</td>\n",
       "      <td>31</td>\n",
       "      <td>0</td>\n",
       "      <td>5</td>\n",
       "      <td>1</td>\n",
       "      <td>0</td>\n",
       "      <td>0</td>\n",
       "    </tr>\n",
       "    <tr>\n",
       "      <th>1</th>\n",
       "      <td>2</td>\n",
       "      <td>1</td>\n",
       "      <td>7</td>\n",
       "      <td>2015-08-02</td>\n",
       "      <td>1</td>\n",
       "      <td>0</td>\n",
       "      <td>0</td>\n",
       "      <td>0</td>\n",
       "      <td>2015</td>\n",
       "      <td>8</td>\n",
       "      <td>2</td>\n",
       "      <td>31</td>\n",
       "      <td>0</td>\n",
       "      <td>6</td>\n",
       "      <td>0</td>\n",
       "      <td>0</td>\n",
       "      <td>0</td>\n",
       "    </tr>\n",
       "    <tr>\n",
       "      <th>2</th>\n",
       "      <td>3</td>\n",
       "      <td>1</td>\n",
       "      <td>1</td>\n",
       "      <td>2015-08-03</td>\n",
       "      <td>1</td>\n",
       "      <td>0</td>\n",
       "      <td>0</td>\n",
       "      <td>0</td>\n",
       "      <td>2015</td>\n",
       "      <td>8</td>\n",
       "      <td>3</td>\n",
       "      <td>32</td>\n",
       "      <td>0</td>\n",
       "      <td>0</td>\n",
       "      <td>0</td>\n",
       "      <td>0</td>\n",
       "      <td>0</td>\n",
       "    </tr>\n",
       "    <tr>\n",
       "      <th>3</th>\n",
       "      <td>4</td>\n",
       "      <td>1</td>\n",
       "      <td>2</td>\n",
       "      <td>2015-08-04</td>\n",
       "      <td>1</td>\n",
       "      <td>0</td>\n",
       "      <td>0</td>\n",
       "      <td>0</td>\n",
       "      <td>2015</td>\n",
       "      <td>8</td>\n",
       "      <td>4</td>\n",
       "      <td>32</td>\n",
       "      <td>0</td>\n",
       "      <td>1</td>\n",
       "      <td>0</td>\n",
       "      <td>0</td>\n",
       "      <td>0</td>\n",
       "    </tr>\n",
       "    <tr>\n",
       "      <th>4</th>\n",
       "      <td>5</td>\n",
       "      <td>1</td>\n",
       "      <td>3</td>\n",
       "      <td>2015-08-05</td>\n",
       "      <td>1</td>\n",
       "      <td>0</td>\n",
       "      <td>0</td>\n",
       "      <td>0</td>\n",
       "      <td>2015</td>\n",
       "      <td>8</td>\n",
       "      <td>5</td>\n",
       "      <td>32</td>\n",
       "      <td>0</td>\n",
       "      <td>2</td>\n",
       "      <td>0</td>\n",
       "      <td>0</td>\n",
       "      <td>0</td>\n",
       "    </tr>\n",
       "  </tbody>\n",
       "</table>\n",
       "</div>"
      ],
      "text/plain": [
       "   Id  Store  DayOfWeek       Date  Open  Promo StateHoliday  SchoolHoliday  \\\n",
       "0   1      1          6 2015-08-01     1      0            0              0   \n",
       "1   2      1          7 2015-08-02     1      0            0              0   \n",
       "2   3      1          1 2015-08-03     1      0            0              0   \n",
       "3   4      1          2 2015-08-04     1      0            0              0   \n",
       "4   5      1          3 2015-08-05     1      0            0              0   \n",
       "\n",
       "   Year  Month  Day  WeekOfYear  IsHoliday  Weekday  MonthStart  MonthMid  \\\n",
       "0  2015      8    1          31          0        5           1         0   \n",
       "1  2015      8    2          31          0        6           0         0   \n",
       "2  2015      8    3          32          0        0           0         0   \n",
       "3  2015      8    4          32          0        1           0         0   \n",
       "4  2015      8    5          32          0        2           0         0   \n",
       "\n",
       "   MonthEnd  \n",
       "0         0  \n",
       "1         0  \n",
       "2         0  \n",
       "3         0  \n",
       "4         0  "
      ]
     },
     "execution_count": 44,
     "metadata": {},
     "output_type": "execute_result"
    }
   ],
   "source": [
    "future_test_df.head(5)"
   ]
  },
  {
   "cell_type": "code",
   "execution_count": 45,
   "metadata": {},
   "outputs": [
    {
     "data": {
      "text/plain": [
       "Index(['Id', 'Store', 'DayOfWeek', 'Date', 'Open', 'Promo', 'StateHoliday',\n",
       "       'SchoolHoliday', 'Year', 'Month', 'Day', 'WeekOfYear', 'IsHoliday',\n",
       "       'Weekday', 'MonthStart', 'MonthMid', 'MonthEnd'],\n",
       "      dtype='object')"
      ]
     },
     "execution_count": 45,
     "metadata": {},
     "output_type": "execute_result"
    }
   ],
   "source": [
    "future_test_df.columns"
   ]
  },
  {
   "cell_type": "code",
   "execution_count": 46,
   "metadata": {},
   "outputs": [
    {
     "data": {
      "text/plain": [
       "Id               0\n",
       "Store            0\n",
       "DayOfWeek        0\n",
       "Date             0\n",
       "Open             0\n",
       "Promo            0\n",
       "StateHoliday     0\n",
       "SchoolHoliday    0\n",
       "Year             0\n",
       "Month            0\n",
       "Day              0\n",
       "WeekOfYear       0\n",
       "IsHoliday        0\n",
       "Weekday          0\n",
       "MonthStart       0\n",
       "MonthMid         0\n",
       "MonthEnd         0\n",
       "dtype: int64"
      ]
     },
     "execution_count": 46,
     "metadata": {},
     "output_type": "execute_result"
    }
   ],
   "source": [
    "future_test_df.isna().sum()"
   ]
  },
  {
   "cell_type": "code",
   "execution_count": 47,
   "metadata": {},
   "outputs": [],
   "source": [
    "# Save future dataset separately\n",
    "future_test_df.to_csv(\"./rossmann-store-sales/future_6_weeks_data.csv\", index=False)"
   ]
  },
  {
   "cell_type": "code",
   "execution_count": 48,
   "metadata": {},
   "outputs": [
    {
     "data": {
      "text/html": [
       "<div>\n",
       "<style scoped>\n",
       "    .dataframe tbody tr th:only-of-type {\n",
       "        vertical-align: middle;\n",
       "    }\n",
       "\n",
       "    .dataframe tbody tr th {\n",
       "        vertical-align: top;\n",
       "    }\n",
       "\n",
       "    .dataframe thead th {\n",
       "        text-align: right;\n",
       "    }\n",
       "</style>\n",
       "<table border=\"1\" class=\"dataframe\">\n",
       "  <thead>\n",
       "    <tr style=\"text-align: right;\">\n",
       "      <th></th>\n",
       "      <th>Id</th>\n",
       "      <th>Store</th>\n",
       "      <th>DayOfWeek</th>\n",
       "      <th>Date</th>\n",
       "      <th>Open</th>\n",
       "      <th>Promo</th>\n",
       "      <th>StateHoliday</th>\n",
       "      <th>SchoolHoliday</th>\n",
       "      <th>Year</th>\n",
       "      <th>Month</th>\n",
       "      <th>Day</th>\n",
       "      <th>WeekOfYear</th>\n",
       "      <th>IsHoliday</th>\n",
       "      <th>Weekday</th>\n",
       "      <th>MonthStart</th>\n",
       "      <th>MonthMid</th>\n",
       "      <th>MonthEnd</th>\n",
       "    </tr>\n",
       "  </thead>\n",
       "  <tbody>\n",
       "    <tr>\n",
       "      <th>0</th>\n",
       "      <td>1</td>\n",
       "      <td>1</td>\n",
       "      <td>6</td>\n",
       "      <td>2015-08-01</td>\n",
       "      <td>1</td>\n",
       "      <td>0</td>\n",
       "      <td>0</td>\n",
       "      <td>0</td>\n",
       "      <td>2015</td>\n",
       "      <td>8</td>\n",
       "      <td>1</td>\n",
       "      <td>31</td>\n",
       "      <td>0</td>\n",
       "      <td>5</td>\n",
       "      <td>1</td>\n",
       "      <td>0</td>\n",
       "      <td>0</td>\n",
       "    </tr>\n",
       "    <tr>\n",
       "      <th>1</th>\n",
       "      <td>2</td>\n",
       "      <td>1</td>\n",
       "      <td>7</td>\n",
       "      <td>2015-08-02</td>\n",
       "      <td>1</td>\n",
       "      <td>0</td>\n",
       "      <td>0</td>\n",
       "      <td>0</td>\n",
       "      <td>2015</td>\n",
       "      <td>8</td>\n",
       "      <td>2</td>\n",
       "      <td>31</td>\n",
       "      <td>0</td>\n",
       "      <td>6</td>\n",
       "      <td>0</td>\n",
       "      <td>0</td>\n",
       "      <td>0</td>\n",
       "    </tr>\n",
       "    <tr>\n",
       "      <th>2</th>\n",
       "      <td>3</td>\n",
       "      <td>1</td>\n",
       "      <td>1</td>\n",
       "      <td>2015-08-03</td>\n",
       "      <td>1</td>\n",
       "      <td>0</td>\n",
       "      <td>0</td>\n",
       "      <td>0</td>\n",
       "      <td>2015</td>\n",
       "      <td>8</td>\n",
       "      <td>3</td>\n",
       "      <td>32</td>\n",
       "      <td>0</td>\n",
       "      <td>0</td>\n",
       "      <td>0</td>\n",
       "      <td>0</td>\n",
       "      <td>0</td>\n",
       "    </tr>\n",
       "    <tr>\n",
       "      <th>3</th>\n",
       "      <td>4</td>\n",
       "      <td>1</td>\n",
       "      <td>2</td>\n",
       "      <td>2015-08-04</td>\n",
       "      <td>1</td>\n",
       "      <td>0</td>\n",
       "      <td>0</td>\n",
       "      <td>0</td>\n",
       "      <td>2015</td>\n",
       "      <td>8</td>\n",
       "      <td>4</td>\n",
       "      <td>32</td>\n",
       "      <td>0</td>\n",
       "      <td>1</td>\n",
       "      <td>0</td>\n",
       "      <td>0</td>\n",
       "      <td>0</td>\n",
       "    </tr>\n",
       "    <tr>\n",
       "      <th>4</th>\n",
       "      <td>5</td>\n",
       "      <td>1</td>\n",
       "      <td>3</td>\n",
       "      <td>2015-08-05</td>\n",
       "      <td>1</td>\n",
       "      <td>0</td>\n",
       "      <td>0</td>\n",
       "      <td>0</td>\n",
       "      <td>2015</td>\n",
       "      <td>8</td>\n",
       "      <td>5</td>\n",
       "      <td>32</td>\n",
       "      <td>0</td>\n",
       "      <td>2</td>\n",
       "      <td>0</td>\n",
       "      <td>0</td>\n",
       "      <td>0</td>\n",
       "    </tr>\n",
       "    <tr>\n",
       "      <th>...</th>\n",
       "      <td>...</td>\n",
       "      <td>...</td>\n",
       "      <td>...</td>\n",
       "      <td>...</td>\n",
       "      <td>...</td>\n",
       "      <td>...</td>\n",
       "      <td>...</td>\n",
       "      <td>...</td>\n",
       "      <td>...</td>\n",
       "      <td>...</td>\n",
       "      <td>...</td>\n",
       "      <td>...</td>\n",
       "      <td>...</td>\n",
       "      <td>...</td>\n",
       "      <td>...</td>\n",
       "      <td>...</td>\n",
       "      <td>...</td>\n",
       "    </tr>\n",
       "    <tr>\n",
       "      <th>46825</th>\n",
       "      <td>46826</td>\n",
       "      <td>1115</td>\n",
       "      <td>1</td>\n",
       "      <td>2015-09-07</td>\n",
       "      <td>1</td>\n",
       "      <td>0</td>\n",
       "      <td>0</td>\n",
       "      <td>0</td>\n",
       "      <td>2015</td>\n",
       "      <td>9</td>\n",
       "      <td>7</td>\n",
       "      <td>37</td>\n",
       "      <td>0</td>\n",
       "      <td>0</td>\n",
       "      <td>0</td>\n",
       "      <td>0</td>\n",
       "      <td>0</td>\n",
       "    </tr>\n",
       "    <tr>\n",
       "      <th>46826</th>\n",
       "      <td>46827</td>\n",
       "      <td>1115</td>\n",
       "      <td>2</td>\n",
       "      <td>2015-09-08</td>\n",
       "      <td>1</td>\n",
       "      <td>0</td>\n",
       "      <td>0</td>\n",
       "      <td>0</td>\n",
       "      <td>2015</td>\n",
       "      <td>9</td>\n",
       "      <td>8</td>\n",
       "      <td>37</td>\n",
       "      <td>0</td>\n",
       "      <td>1</td>\n",
       "      <td>0</td>\n",
       "      <td>0</td>\n",
       "      <td>0</td>\n",
       "    </tr>\n",
       "    <tr>\n",
       "      <th>46827</th>\n",
       "      <td>46828</td>\n",
       "      <td>1115</td>\n",
       "      <td>3</td>\n",
       "      <td>2015-09-09</td>\n",
       "      <td>1</td>\n",
       "      <td>0</td>\n",
       "      <td>0</td>\n",
       "      <td>0</td>\n",
       "      <td>2015</td>\n",
       "      <td>9</td>\n",
       "      <td>9</td>\n",
       "      <td>37</td>\n",
       "      <td>0</td>\n",
       "      <td>2</td>\n",
       "      <td>0</td>\n",
       "      <td>0</td>\n",
       "      <td>0</td>\n",
       "    </tr>\n",
       "    <tr>\n",
       "      <th>46828</th>\n",
       "      <td>46829</td>\n",
       "      <td>1115</td>\n",
       "      <td>4</td>\n",
       "      <td>2015-09-10</td>\n",
       "      <td>1</td>\n",
       "      <td>0</td>\n",
       "      <td>0</td>\n",
       "      <td>0</td>\n",
       "      <td>2015</td>\n",
       "      <td>9</td>\n",
       "      <td>10</td>\n",
       "      <td>37</td>\n",
       "      <td>0</td>\n",
       "      <td>3</td>\n",
       "      <td>0</td>\n",
       "      <td>1</td>\n",
       "      <td>0</td>\n",
       "    </tr>\n",
       "    <tr>\n",
       "      <th>46829</th>\n",
       "      <td>46830</td>\n",
       "      <td>1115</td>\n",
       "      <td>5</td>\n",
       "      <td>2015-09-11</td>\n",
       "      <td>1</td>\n",
       "      <td>0</td>\n",
       "      <td>0</td>\n",
       "      <td>0</td>\n",
       "      <td>2015</td>\n",
       "      <td>9</td>\n",
       "      <td>11</td>\n",
       "      <td>37</td>\n",
       "      <td>0</td>\n",
       "      <td>4</td>\n",
       "      <td>0</td>\n",
       "      <td>1</td>\n",
       "      <td>0</td>\n",
       "    </tr>\n",
       "  </tbody>\n",
       "</table>\n",
       "<p>46830 rows × 17 columns</p>\n",
       "</div>"
      ],
      "text/plain": [
       "          Id  Store  DayOfWeek       Date  Open  Promo StateHoliday  \\\n",
       "0          1      1          6 2015-08-01     1      0            0   \n",
       "1          2      1          7 2015-08-02     1      0            0   \n",
       "2          3      1          1 2015-08-03     1      0            0   \n",
       "3          4      1          2 2015-08-04     1      0            0   \n",
       "4          5      1          3 2015-08-05     1      0            0   \n",
       "...      ...    ...        ...        ...   ...    ...          ...   \n",
       "46825  46826   1115          1 2015-09-07     1      0            0   \n",
       "46826  46827   1115          2 2015-09-08     1      0            0   \n",
       "46827  46828   1115          3 2015-09-09     1      0            0   \n",
       "46828  46829   1115          4 2015-09-10     1      0            0   \n",
       "46829  46830   1115          5 2015-09-11     1      0            0   \n",
       "\n",
       "       SchoolHoliday  Year  Month  Day  WeekOfYear  IsHoliday  Weekday  \\\n",
       "0                  0  2015      8    1          31          0        5   \n",
       "1                  0  2015      8    2          31          0        6   \n",
       "2                  0  2015      8    3          32          0        0   \n",
       "3                  0  2015      8    4          32          0        1   \n",
       "4                  0  2015      8    5          32          0        2   \n",
       "...              ...   ...    ...  ...         ...        ...      ...   \n",
       "46825              0  2015      9    7          37          0        0   \n",
       "46826              0  2015      9    8          37          0        1   \n",
       "46827              0  2015      9    9          37          0        2   \n",
       "46828              0  2015      9   10          37          0        3   \n",
       "46829              0  2015      9   11          37          0        4   \n",
       "\n",
       "       MonthStart  MonthMid  MonthEnd  \n",
       "0               1         0         0  \n",
       "1               0         0         0  \n",
       "2               0         0         0  \n",
       "3               0         0         0  \n",
       "4               0         0         0  \n",
       "...           ...       ...       ...  \n",
       "46825           0         0         0  \n",
       "46826           0         0         0  \n",
       "46827           0         0         0  \n",
       "46828           0         1         0  \n",
       "46829           0         1         0  \n",
       "\n",
       "[46830 rows x 17 columns]"
      ]
     },
     "execution_count": 48,
     "metadata": {},
     "output_type": "execute_result"
    }
   ],
   "source": [
    "future_test_df"
   ]
  },
  {
   "cell_type": "code",
   "execution_count": 49,
   "metadata": {},
   "outputs": [
    {
     "name": "stdout",
     "output_type": "stream",
     "text": [
      "Separate future dataset (6 weeks) created successfully, with correct categorical replacements!\n"
     ]
    }
   ],
   "source": [
    "print(\"Separate future dataset (6 weeks) created successfully, with correct categorical replacements!\")"
   ]
  },
  {
   "cell_type": "markdown",
   "metadata": {},
   "source": [
    "---------------------------------------------------------------------------------------------------------------------------------------------------------------------------------------------------"
   ]
  },
  {
   "cell_type": "markdown",
   "metadata": {},
   "source": [
    "*** Encode and Scale the Future Data ***"
   ]
  },
  {
   "cell_type": "code",
   "execution_count": 50,
   "metadata": {},
   "outputs": [],
   "source": [
    "categorical_col_for_future = [col for col in future_test_df.select_dtypes(include=[\"object\", \"category\"])]\n",
    "numerical_cols_for_future = [col for col in future_test_df.select_dtypes(include=[\"number\"])]"
   ]
  },
  {
   "cell_type": "code",
   "execution_count": 51,
   "metadata": {},
   "outputs": [
    {
     "data": {
      "text/plain": [
       "(['StateHoliday'],\n",
       " ['Id',\n",
       "  'Store',\n",
       "  'DayOfWeek',\n",
       "  'Open',\n",
       "  'Promo',\n",
       "  'SchoolHoliday',\n",
       "  'Year',\n",
       "  'Month',\n",
       "  'Day',\n",
       "  'WeekOfYear',\n",
       "  'IsHoliday',\n",
       "  'Weekday',\n",
       "  'MonthStart',\n",
       "  'MonthMid',\n",
       "  'MonthEnd'])"
      ]
     },
     "execution_count": 51,
     "metadata": {},
     "output_type": "execute_result"
    }
   ],
   "source": [
    "categorical_col_for_future,numerical_cols_for_future"
   ]
  },
  {
   "cell_type": "markdown",
   "metadata": {},
   "source": [
    "*** Scale the numerical column ***"
   ]
  },
  {
   "cell_type": "code",
   "execution_count": 52,
   "metadata": {},
   "outputs": [],
   "source": [
    "# Initialize StandardScaler\n",
    "scaler = StandardScaler()\n",
    "future_test_df[numerical_cols_for_future] = scaler.fit_transform(future_test_df[numerical_cols_for_future])"
   ]
  },
  {
   "cell_type": "markdown",
   "metadata": {},
   "source": [
    "*** Encode the Categorical column ***"
   ]
  },
  {
   "cell_type": "code",
   "execution_count": 53,
   "metadata": {},
   "outputs": [],
   "source": [
    "# Apply Label Encoding to categorical columns\n",
    "label_encoders = {}\n",
    "for col in categorical_col_for_future:\n",
    "    le = LabelEncoder()\n",
    "    future_test_df[col] = le.fit_transform(future_test_df[col].astype(str))\n",
    "    label_encoders[col] = le"
   ]
  },
  {
   "cell_type": "code",
   "execution_count": 54,
   "metadata": {},
   "outputs": [],
   "source": [
    "# Drop 'Date' column\n",
    "future_test_df.drop([\"Date\"], axis=1, inplace=True)"
   ]
  },
  {
   "cell_type": "code",
   "execution_count": 55,
   "metadata": {},
   "outputs": [],
   "source": [
    "# Save future dataset separately\n",
    "future_test_df.to_csv(\"./rossmann-store-sales/future_6_weeks_data_scaled.csv\", index=False)"
   ]
  },
  {
   "cell_type": "markdown",
   "metadata": {},
   "source": [
    "---------------------------------------------------------------------------------------------------------------------------------------------------------------------------------------------------"
   ]
  },
  {
   "cell_type": "code",
   "execution_count": 56,
   "metadata": {},
   "outputs": [],
   "source": [
    "# Apply Label Encoding to categorical columns\n",
    "label_encoders = {}\n",
    "for col in categorical_cols_train:\n",
    "    le = LabelEncoder()\n",
    "    Data_for_train[col] = le.fit_transform(Data_for_train[col].astype(str))\n",
    "    Data_for_test[col] = le.fit_transform(Data_for_test[col].astype(str))\n",
    "    label_encoders[col] = le"
   ]
  },
  {
   "cell_type": "code",
   "execution_count": 57,
   "metadata": {},
   "outputs": [],
   "source": [
    "# Apply StandardScaler to numerical features\n",
    "scaler = StandardScaler()\n",
    "Data_for_train[numerical_cols_for_train] = scaler.fit_transform(Data_for_train[numerical_cols_for_train])\n",
    "Data_for_test[numerical_cols_for_test] = scaler.fit_transform(Data_for_test[numerical_cols_for_test])"
   ]
  },
  {
   "cell_type": "code",
   "execution_count": 58,
   "metadata": {},
   "outputs": [],
   "source": [
    "# Drop 'Date' column\n",
    "Data_for_train.drop([\"Date\"], axis=1, inplace=True)\n",
    "Data_for_test.drop([\"Date\"], axis=1, inplace=True)"
   ]
  },
  {
   "cell_type": "code",
   "execution_count": 60,
   "metadata": {},
   "outputs": [],
   "source": [
    "# Save processed data if needed\n",
    "Data_for_train.to_csv(\"./rossmann-store-sales/processed_train_new.csv\", index=False)\n",
    "Data_for_test.to_csv(\"./rossmann-store-sales/processed_test.csv\", index=False)"
   ]
  },
  {
   "cell_type": "markdown",
   "metadata": {},
   "source": [
    "---------------------------------------------------------------------------------------------------------------------------------------------------------------------------------------------------"
   ]
  },
  {
   "cell_type": "code",
   "execution_count": null,
   "metadata": {},
   "outputs": [],
   "source": [
    "# # Define target variable (y) and features (X)\n",
    "# X = Data_for_train.drop(columns=[\"Sales\",\"Customers\"])  # Features\n",
    "# Y = Data_for_train[\"Sales\"]  # Target"
   ]
  },
  {
   "cell_type": "code",
   "execution_count": null,
   "metadata": {},
   "outputs": [],
   "source": [
    "# Linear Models\n",
    "# models = {\n",
    "#     \"Linear Regression\": LinearRegression(),\n",
    "#     \"Ridge Regression\": Ridge(alpha=1.0),\n",
    "#     \"Lasso Regression\": Lasso(alpha=0.1)\n",
    "# }"
   ]
  },
  {
   "cell_type": "code",
   "execution_count": null,
   "metadata": {},
   "outputs": [],
   "source": [
    "# Tree-Based Models\n",
    "# models.update({\n",
    "#     \"Random Forest\": RandomForestRegressor(n_estimators=100, random_state=42),\n",
    "#     \"Gradient Boosting\": GradientBoostingRegressor(n_estimators=100, learning_rate=0.1, random_state=42),\n",
    "#     \"XGBoost\": XGBRegressor(n_estimators=100, learning_rate=0.1, random_state=42)\n",
    "# })"
   ]
  },
  {
   "cell_type": "code",
   "execution_count": null,
   "metadata": {},
   "outputs": [],
   "source": [
    "# X_train, X_val, Y_train, Y_val = train_test_split(X, Y, test_size=0.2, random_state=42)"
   ]
  },
  {
   "cell_type": "code",
   "execution_count": null,
   "metadata": {},
   "outputs": [],
   "source": [
    "# Train and evaluate each model\n",
    "# results = {}\n",
    "# for name, model in models.items():\n",
    "#     model.fit(X_train, Y_train)\n",
    "#     Y_pred = model.predict(X_val)\n",
    "    \n",
    "#     mae = mean_absolute_error(Y_val, Y_pred)\n",
    "#     r2 = r2_score(Y_val, Y_pred)\n",
    "    \n",
    "#     results[name] = {\"MAE\": mae, \"R²\": r2}\n",
    "#     print(f\"{name}: MAE = {mae:.2f}, R² = {r2:.3f}\")"
   ]
  },
  {
   "cell_type": "code",
   "execution_count": null,
   "metadata": {},
   "outputs": [],
   "source": [
    "# Show results sorted by R²\n",
    "# sorted_results = sorted(results.items(), key=lambda x: x[1][\"R²\"], reverse=True)\n",
    "\n",
    "# print(\"\\n🔹 Model Performance (Sorted by Highest R²):\")\n",
    "# for name, scores in sorted_results:\n",
    "#     print(f\"{name}: MAE = {scores['MAE']:.2f}, R² = {scores['R²']:.3f}\")"
   ]
  },
  {
   "cell_type": "code",
   "execution_count": null,
   "metadata": {},
   "outputs": [],
   "source": [
    "# from sklearn.svm import SVR\n",
    "\n",
    "# svr = SVR(kernel='rbf')  # Uses distance-based radial basis function (RBF)\n",
    "# svr.fit(X_train, Y_train)\n",
    "# svr_predictions = svr.predict(X_val)"
   ]
  },
  {
   "cell_type": "code",
   "execution_count": null,
   "metadata": {},
   "outputs": [],
   "source": [
    "# from sklearn.cluster import KMeans\n",
    "\n",
    "# kmeans = KMeans(n_clusters=5, random_state=42)\n",
    "# kmeans.fit(X_train)\n",
    "# cluster_labels = kmeans.predict(X_val)"
   ]
  },
  {
   "cell_type": "code",
   "execution_count": null,
   "metadata": {},
   "outputs": [],
   "source": [
    "# Define the hyperparameter grid\n",
    "# param_grid = {\n",
    "#     'n_estimators': [100, 200, 300, 500],  # Number of trees\n",
    "#     'max_depth': [10, 20, 30, None],  # Maximum depth of trees\n",
    "#     'min_samples_split': [2, 5, 10],  # Minimum samples required to split\n",
    "#     'min_samples_leaf': [1, 2, 4],  # Minimum samples per leaf\n",
    "#     'max_features': ['sqrt', 'log2', None]  # Remove 'auto'\n",
    "# }"
   ]
  },
  {
   "cell_type": "code",
   "execution_count": null,
   "metadata": {},
   "outputs": [],
   "source": [
    "# Initialize the model\n",
    "# rf = RandomForestRegressor(random_state=42)"
   ]
  },
  {
   "cell_type": "code",
   "execution_count": null,
   "metadata": {},
   "outputs": [],
   "source": [
    "# Perform Randomized Search\n",
    "# rf_random = RandomizedSearchCV(\n",
    "#     estimator=rf, \n",
    "#     param_distributions=param_grid, \n",
    "#     n_iter=10, cv=3, \n",
    "#     scoring='r2', verbose=2, \n",
    "#     n_jobs=-1, random_state=42\n",
    "# )"
   ]
  },
  {
   "cell_type": "code",
   "execution_count": null,
   "metadata": {},
   "outputs": [],
   "source": [
    "# Train using RandomizedSearchCV\n",
    "# rf_random.fit(X, Y)"
   ]
  },
  {
   "cell_type": "code",
   "execution_count": null,
   "metadata": {},
   "outputs": [],
   "source": [
    "# Print best parameters\n",
    "# print(f\"🔹 Best Parameters: {rf_random.best_params_}\")"
   ]
  },
  {
   "cell_type": "code",
   "execution_count": null,
   "metadata": {},
   "outputs": [],
   "source": [
    "# Get the best model\n",
    "# best_rf = rf_random.best_estimator_"
   ]
  },
  {
   "cell_type": "code",
   "execution_count": null,
   "metadata": {},
   "outputs": [],
   "source": [
    "# Train the best model on full data\n",
    "# best_rf.fit(X, Y)"
   ]
  },
  {
   "cell_type": "code",
   "execution_count": null,
   "metadata": {},
   "outputs": [],
   "source": [
    "# To improve R2\n",
    "# Feature Engineering\n",
    "# X[\"is_weekend\"] = (X[\"DayOfWeek\"] >= 6).astype(int)  # 1 if Saturday/Sunday\n",
    "# X[\"is_start_of_month\"] = (X[\"Day\"] <= 5).astype(int)  # Start of month effect\n",
    "# X[\"is_end_of_month\"] = (X[\"Day\"] >= 25).astype(int)  # End of month effect"
   ]
  },
  {
   "cell_type": "code",
   "execution_count": null,
   "metadata": {},
   "outputs": [],
   "source": [
    "# Get feature importances from best RF model\n",
    "# importances = best_rf.feature_importances_\n",
    "# feature_names = X.columns\n",
    "# feature_df = pd.DataFrame({\"Feature\": feature_names, \"Importance\": importances})\n",
    "# feature_df = feature_df.sort_values(by=\"Importance\", ascending=False)"
   ]
  },
  {
   "cell_type": "code",
   "execution_count": null,
   "metadata": {},
   "outputs": [],
   "source": [
    "# Plot feature importance\n",
    "# plt.figure(figsize=(10, 6))\n",
    "# plt.barh(feature_df[\"Feature\"][:10], feature_df[\"Importance\"][:10])\n",
    "# plt.xlabel(\"Importance Score\")\n",
    "# plt.ylabel(\"Feature Name\")\n",
    "# plt.title(\"Top 10 Most Important Features\")\n",
    "# plt.gca().invert_yaxis()\n",
    "# plt.show()"
   ]
  },
  {
   "cell_type": "markdown",
   "metadata": {},
   "source": [
    "Hyperparameter Tuning for Random Forest"
   ]
  },
  {
   "cell_type": "code",
   "execution_count": null,
   "metadata": {},
   "outputs": [],
   "source": [
    "# Further refine hyperparameters\n",
    "# param_grid = {\n",
    "#     'n_estimators': [300, 400],  # Reduce to avoid memory issues\n",
    "#     'max_depth': [10, 20],  # Avoid unrestricted depth\n",
    "#     'min_samples_split': [2, 3],  # Reduce split threshold\n",
    "#     'min_samples_leaf': [1, 2],  # Avoid very small leaf nodes\n",
    "#     'max_features': ['sqrt']\n",
    "# }"
   ]
  },
  {
   "cell_type": "code",
   "execution_count": null,
   "metadata": {},
   "outputs": [],
   "source": [
    "# grid_search = GridSearchCV(\n",
    "#     estimator=RandomForestRegressor(random_state=42),\n",
    "#     param_grid=param_grid,\n",
    "#     cv=3,  # Reduce cross-validation folds\n",
    "#     scoring='r2',\n",
    "#     n_jobs=4,  # Reduce parallelism\n",
    "#     verbose=2\n",
    "# )"
   ]
  },
  {
   "cell_type": "code",
   "execution_count": null,
   "metadata": {},
   "outputs": [],
   "source": [
    "# grid_search.fit(X, Y)"
   ]
  },
  {
   "cell_type": "code",
   "execution_count": null,
   "metadata": {},
   "outputs": [],
   "source": [
    "# print(f\"🔹 Best Parameters: {grid_search.best_params_}\")\n",
    "\n",
    "# best_rf = grid_search.best_estimator_"
   ]
  },
  {
   "cell_type": "code",
   "execution_count": null,
   "metadata": {},
   "outputs": [],
   "source": [
    "# xgb = XGBRegressor(n_estimators=500, learning_rate=0.05, max_depth=10, random_state=42)\n",
    "# xgb.fit(X, Y)"
   ]
  },
  {
   "cell_type": "code",
   "execution_count": null,
   "metadata": {},
   "outputs": [],
   "source": [
    "# r2_xgb = xgb.score(X_val, Y_val)\n",
    "# print(f\"🔹 XGBoost R²: {r2_xgb:.3f}\")"
   ]
  },
  {
   "cell_type": "code",
   "execution_count": null,
   "metadata": {},
   "outputs": [],
   "source": [
    "# ensemble_model = VotingRegressor(\n",
    "#     estimators=[(\"rf\", best_rf), (\"xgb\", xgb)]\n",
    "# )"
   ]
  },
  {
   "cell_type": "code",
   "execution_count": null,
   "metadata": {},
   "outputs": [],
   "source": [
    "# ensemble_model.fit(X, Y)"
   ]
  },
  {
   "cell_type": "code",
   "execution_count": null,
   "metadata": {},
   "outputs": [],
   "source": [
    "# r2_ensemble = ensemble_model.score(X_val, Y_val)\n",
    "# print(f\"🔹 Ensemble R²: {r2_ensemble:.3f}\")"
   ]
  },
  {
   "cell_type": "markdown",
   "metadata": {},
   "source": [
    "  Train the final model using the best parameters"
   ]
  },
  {
   "cell_type": "code",
   "execution_count": null,
   "metadata": {},
   "outputs": [],
   "source": [
    "# Retrieve the best parameters from the RandomizedSearchCV results\n",
    "# best_params = rf_random.best_params_"
   ]
  },
  {
   "cell_type": "code",
   "execution_count": null,
   "metadata": {},
   "outputs": [],
   "source": [
    "# Train the final RandomForestRegressor model using the best parameters\n",
    "# best_rf = RandomForestRegressor(\n",
    "#     n_estimators=best_params['n_estimators'],\n",
    "#     max_depth=best_params['max_depth'],\n",
    "#     min_samples_split=best_params['min_samples_split'],\n",
    "#     min_samples_leaf=best_params['min_samples_leaf'],\n",
    "#     max_features=best_params['max_features'],\n",
    "#     random_state=42\n",
    "# )"
   ]
  },
  {
   "cell_type": "code",
   "execution_count": null,
   "metadata": {},
   "outputs": [],
   "source": [
    "# Fit the model on the full training dataset\n",
    "# best_rf.fit(X, Y)"
   ]
  },
  {
   "cell_type": "code",
   "execution_count": null,
   "metadata": {},
   "outputs": [],
   "source": [
    "#Display confirmation message\n",
    "# print(\"✅ Final Random Forest model trained successfully with the best parameters!\")"
   ]
  }
 ],
 "metadata": {
  "kernelspec": {
   "display_name": "env",
   "language": "python",
   "name": "python3"
  },
  "language_info": {
   "codemirror_mode": {
    "name": "ipython",
    "version": 3
   },
   "file_extension": ".py",
   "mimetype": "text/x-python",
   "name": "python",
   "nbconvert_exporter": "python",
   "pygments_lexer": "ipython3",
   "version": "3.11.9"
  }
 },
 "nbformat": 4,
 "nbformat_minor": 2
}
