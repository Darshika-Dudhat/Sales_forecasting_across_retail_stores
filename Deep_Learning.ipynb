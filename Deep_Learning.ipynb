{
 "cells": [
  {
   "cell_type": "code",
   "execution_count": 1,
   "metadata": {},
   "outputs": [],
   "source": [
    "import numpy as np\n",
    "import pandas as pd\n",
    "import matplotlib.pyplot as plt\n",
    "import seaborn as sns\n",
    "import tensorflow as tf\n",
    "from tensorflow.keras.models import Sequential\n",
    "from tensorflow.keras.layers import LSTM, Dense, Dropout, Input\n",
    "from sklearn.preprocessing import MinMaxScaler\n",
    "from statsmodels.tsa.stattools import adfuller\n",
    "from statsmodels.graphics.tsaplots import plot_acf, plot_pacf\n",
    "import mlflow\n",
    "import mlflow.keras"
   ]
  },
  {
   "cell_type": "code",
   "execution_count": 2,
   "metadata": {},
   "outputs": [],
   "source": [
    "# Set MLflow tracking URI (local or remote server)\n",
    "mlflow.set_tracking_uri(\"http://localhost:5000\")  # Default MLflow server"
   ]
  },
  {
   "cell_type": "code",
   "execution_count": 3,
   "metadata": {},
   "outputs": [],
   "source": [
    "# Load Processed Data (`train_data.csv`)\n",
    "file_path = './rossmann-store-sales/train_data.csv'  # Processed dataset (before scaling)"
   ]
  },
  {
   "cell_type": "code",
   "execution_count": 4,
   "metadata": {},
   "outputs": [],
   "source": [
    "data = pd.read_csv(file_path, parse_dates=[\"Date\"], index_col=\"Date\", low_memory=False)"
   ]
  },
  {
   "cell_type": "code",
   "execution_count": 5,
   "metadata": {},
   "outputs": [],
   "source": [
    "# Step 1: Aggregate Sales Data for Time-Series Analysis\n",
    "sales_data = data.groupby(\"Date\")[\"Sales\"].sum().to_frame()"
   ]
  },
  {
   "cell_type": "code",
   "execution_count": 6,
   "metadata": {},
   "outputs": [],
   "source": [
    "# Step 2: Check for Stationarity Using ADF Test\n",
    "result = adfuller(sales_data[\"Sales\"])"
   ]
  },
  {
   "cell_type": "code",
   "execution_count": 7,
   "metadata": {},
   "outputs": [
    {
     "name": "stdout",
     "output_type": "stream",
     "text": [
      "ADF Statistic: -4.761614524595634\n",
      "p-value: 6.436731330558783e-05\n"
     ]
    }
   ],
   "source": [
    "print(f\"ADF Statistic: {result[0]}\")\n",
    "print(f\"p-value: {result[1]}\")"
   ]
  },
  {
   "cell_type": "code",
   "execution_count": 8,
   "metadata": {},
   "outputs": [
    {
     "name": "stdout",
     "output_type": "stream",
     "text": [
      "✅ Data is already stationary. No differencing needed.\n"
     ]
    }
   ],
   "source": [
    "# Step 3: Apply Differencing If Needed\n",
    "if result[1] > 0.05:  # If p-value > 0.05, the data is not stationary\n",
    "    sales_data[\"Sales_diff\"] = sales_data[\"Sales\"].diff()\n",
    "    sales_data.dropna(inplace=True)  # Drop NaN values after differencing\n",
    "    column_to_plot = \"Sales_diff\"\n",
    "    print(\"✅ Data was differenced to make it stationary.\")\n",
    "else:\n",
    "    column_to_plot = \"Sales\"  # Use original data if already stationary\n",
    "    print(\"✅ Data is already stationary. No differencing needed.\")"
   ]
  },
  {
   "cell_type": "code",
   "execution_count": 9,
   "metadata": {},
   "outputs": [
    {
     "data": {
      "text/html": [
       "<div>\n",
       "<style scoped>\n",
       "    .dataframe tbody tr th:only-of-type {\n",
       "        vertical-align: middle;\n",
       "    }\n",
       "\n",
       "    .dataframe tbody tr th {\n",
       "        vertical-align: top;\n",
       "    }\n",
       "\n",
       "    .dataframe thead th {\n",
       "        text-align: right;\n",
       "    }\n",
       "</style>\n",
       "<table border=\"1\" class=\"dataframe\">\n",
       "  <thead>\n",
       "    <tr style=\"text-align: right;\">\n",
       "      <th></th>\n",
       "      <th>Sales</th>\n",
       "    </tr>\n",
       "    <tr>\n",
       "      <th>Date</th>\n",
       "      <th></th>\n",
       "    </tr>\n",
       "  </thead>\n",
       "  <tbody>\n",
       "    <tr>\n",
       "      <th>2013-01-01</th>\n",
       "      <td>97235</td>\n",
       "    </tr>\n",
       "    <tr>\n",
       "      <th>2013-01-02</th>\n",
       "      <td>6949829</td>\n",
       "    </tr>\n",
       "    <tr>\n",
       "      <th>2013-01-03</th>\n",
       "      <td>6347820</td>\n",
       "    </tr>\n",
       "    <tr>\n",
       "      <th>2013-01-04</th>\n",
       "      <td>6638954</td>\n",
       "    </tr>\n",
       "    <tr>\n",
       "      <th>2013-01-05</th>\n",
       "      <td>5951593</td>\n",
       "    </tr>\n",
       "    <tr>\n",
       "      <th>...</th>\n",
       "      <td>...</td>\n",
       "    </tr>\n",
       "    <tr>\n",
       "      <th>2015-07-27</th>\n",
       "      <td>10707292</td>\n",
       "    </tr>\n",
       "    <tr>\n",
       "      <th>2015-07-28</th>\n",
       "      <td>9115073</td>\n",
       "    </tr>\n",
       "    <tr>\n",
       "      <th>2015-07-29</th>\n",
       "      <td>8499962</td>\n",
       "    </tr>\n",
       "    <tr>\n",
       "      <th>2015-07-30</th>\n",
       "      <td>8798854</td>\n",
       "    </tr>\n",
       "    <tr>\n",
       "      <th>2015-07-31</th>\n",
       "      <td>10109742</td>\n",
       "    </tr>\n",
       "  </tbody>\n",
       "</table>\n",
       "<p>942 rows × 1 columns</p>\n",
       "</div>"
      ],
      "text/plain": [
       "               Sales\n",
       "Date                \n",
       "2013-01-01     97235\n",
       "2013-01-02   6949829\n",
       "2013-01-03   6347820\n",
       "2013-01-04   6638954\n",
       "2013-01-05   5951593\n",
       "...              ...\n",
       "2015-07-27  10707292\n",
       "2015-07-28   9115073\n",
       "2015-07-29   8499962\n",
       "2015-07-30   8798854\n",
       "2015-07-31  10109742\n",
       "\n",
       "[942 rows x 1 columns]"
      ]
     },
     "execution_count": 9,
     "metadata": {},
     "output_type": "execute_result"
    }
   ],
   "source": [
    "sales_data"
   ]
  },
  {
   "cell_type": "code",
   "execution_count": 10,
   "metadata": {},
   "outputs": [
    {
     "data": {
      "image/png": "[encoded data removed]",
      "text/plain": [
       "<Figure size 1200x600 with 2 Axes>"
      ]
     },
     "metadata": {},
     "output_type": "display_data"
    }
   ],
   "source": [
    "# ✅ Step 4: Plot ACF & PACF\n",
    "plt.figure(figsize=(12, 6))\n",
    "plt.subplot(1, 2, 1)\n",
    "plot_acf(sales_data[column_to_plot].dropna(), lags=30, ax=plt.gca())  # ACF plot\n",
    "plt.subplot(1, 2, 2)\n",
    "plot_pacf(sales_data[column_to_plot].dropna(), lags=30, ax=plt.gca())  # PACF plot\n",
    "plt.show()"
   ]
  },
  {
   "cell_type": "code",
   "execution_count": 11,
   "metadata": {},
   "outputs": [],
   "source": [
    "# Step 5: Convert Time Series Data to Supervised Learning\n",
    "def create_sequences(data, time_steps=30):\n",
    "    X, y = [], []\n",
    "    for i in range(len(data) - time_steps):\n",
    "        X.append(data[i : i + time_steps])\n",
    "        y.append(data[i + time_steps])\n",
    "    return np.array(X), np.array(y)"
   ]
  },
  {
   "cell_type": "code",
   "execution_count": 12,
   "metadata": {},
   "outputs": [],
   "source": [
    "# Scale Sales Data to (-1, 1) Range\n",
    "scaler = MinMaxScaler(feature_range=(-1, 1))\n",
    "scaled_sales = scaler.fit_transform(sales_data[\"Sales\"].values.reshape(-1, 1))"
   ]
  },
  {
   "cell_type": "code",
   "execution_count": 14,
   "metadata": {},
   "outputs": [],
   "source": [
    "# Create Sliding Window Sequences\n",
    "time_steps = 45  # Use past 45 days for prediction\n",
    "X, y = create_sequences(scaled_sales, time_steps)"
   ]
  },
  {
   "cell_type": "code",
   "execution_count": 15,
   "metadata": {},
   "outputs": [],
   "source": [
    "# Split Data into Training & Testing\n",
    "train_size = int(len(X) * 0.8)\n",
    "X_train, y_train = X[:train_size], y[:train_size]\n",
    "X_test, y_test = X[train_size:], y[train_size:]"
   ]
  },
  {
   "cell_type": "code",
   "execution_count": 16,
   "metadata": {},
   "outputs": [],
   "source": [
    "# Reshape X for LSTM (Samples, TimeSteps, Features)\n",
    "X_train = X_train.reshape(X_train.shape[0], X_train.shape[1], 1)\n",
    "X_test = X_test.reshape(X_test.shape[0], X_test.shape[1], 1)"
   ]
  },
  {
   "cell_type": "code",
   "execution_count": 19,
   "metadata": {},
   "outputs": [],
   "source": [
    "# ✅ Define LSTM Model Properly\n",
    "lstm_model = Sequential([\n",
    "    Input(shape=(time_steps, 1)),  # Define input shape explicitly\n",
    "    LSTM(units=50, activation='relu', return_sequences=True),\n",
    "    Dropout(0.2),\n",
    "    LSTM(units=50, activation='relu'),\n",
    "    Dropout(0.2),\n",
    "    Dense(units=1)  # Single output for sales prediction\n",
    "])"
   ]
  },
  {
   "cell_type": "code",
   "execution_count": 20,
   "metadata": {},
   "outputs": [],
   "source": [
    "# Compile the Model\n",
    "lstm_model.compile(optimizer=\"adam\", loss=\"mean_squared_error\")"
   ]
  },
  {
   "cell_type": "code",
   "execution_count": 21,
   "metadata": {},
   "outputs": [
    {
     "data": {
      "text/html": [
       "<pre style=\"white-space:pre;overflow-x:auto;line-height:normal;font-family:Menlo,'DejaVu Sans Mono',consolas,'Courier New',monospace\"><span style=\"font-weight: bold\">Model: \"sequential_1\"</span>\n",
       "</pre>\n"
      ],
      "text/plain": [
       "\u001b[1mModel: \"sequential_1\"\u001b[0m\n"
      ]
     },
     "metadata": {},
     "output_type": "display_data"
    },
    {
     "data": {
      "text/html": [
       "<pre style=\"white-space:pre;overflow-x:auto;line-height:normal;font-family:Menlo,'DejaVu Sans Mono',consolas,'Courier New',monospace\">┏━━━━━━━━━━━━━━━━━━━━━━━━━━━━━━━━━┳━━━━━━━━━━━━━━━━━━━━━━━━┳━━━━━━━━━━━━━━━┓\n",
       "┃<span style=\"font-weight: bold\"> Layer (type)                    </span>┃<span style=\"font-weight: bold\"> Output Shape           </span>┃<span style=\"font-weight: bold\">       Param # </span>┃\n",
       "┡━━━━━━━━━━━━━━━━━━━━━━━━━━━━━━━━━╇━━━━━━━━━━━━━━━━━━━━━━━━╇━━━━━━━━━━━━━━━┩\n",
       "│ lstm_2 (<span style=\"color: #0087ff; text-decoration-color: #0087ff\">LSTM</span>)                   │ (<span style=\"color: #00d7ff; text-decoration-color: #00d7ff\">None</span>, <span style=\"color: #00af00; text-decoration-color: #00af00\">45</span>, <span style=\"color: #00af00; text-decoration-color: #00af00\">50</span>)         │        <span style=\"color: #00af00; text-decoration-color: #00af00\">10,400</span> │\n",
       "├─────────────────────────────────┼────────────────────────┼───────────────┤\n",
       "│ dropout_2 (<span style=\"color: #0087ff; text-decoration-color: #0087ff\">Dropout</span>)             │ (<span style=\"color: #00d7ff; text-decoration-color: #00d7ff\">None</span>, <span style=\"color: #00af00; text-decoration-color: #00af00\">45</span>, <span style=\"color: #00af00; text-decoration-color: #00af00\">50</span>)         │             <span style=\"color: #00af00; text-decoration-color: #00af00\">0</span> │\n",
       "├─────────────────────────────────┼────────────────────────┼───────────────┤\n",
       "│ lstm_3 (<span style=\"color: #0087ff; text-decoration-color: #0087ff\">LSTM</span>)                   │ (<span style=\"color: #00d7ff; text-decoration-color: #00d7ff\">None</span>, <span style=\"color: #00af00; text-decoration-color: #00af00\">50</span>)             │        <span style=\"color: #00af00; text-decoration-color: #00af00\">20,200</span> │\n",
       "├─────────────────────────────────┼────────────────────────┼───────────────┤\n",
       "│ dropout_3 (<span style=\"color: #0087ff; text-decoration-color: #0087ff\">Dropout</span>)             │ (<span style=\"color: #00d7ff; text-decoration-color: #00d7ff\">None</span>, <span style=\"color: #00af00; text-decoration-color: #00af00\">50</span>)             │             <span style=\"color: #00af00; text-decoration-color: #00af00\">0</span> │\n",
       "├─────────────────────────────────┼────────────────────────┼───────────────┤\n",
       "│ dense_1 (<span style=\"color: #0087ff; text-decoration-color: #0087ff\">Dense</span>)                 │ (<span style=\"color: #00d7ff; text-decoration-color: #00d7ff\">None</span>, <span style=\"color: #00af00; text-decoration-color: #00af00\">1</span>)              │            <span style=\"color: #00af00; text-decoration-color: #00af00\">51</span> │\n",
       "└─────────────────────────────────┴────────────────────────┴───────────────┘\n",
       "</pre>\n"
      ],
      "text/plain": [
       "┏━━━━━━━━━━━━━━━━━━━━━━━━━━━━━━━━━┳━━━━━━━━━━━━━━━━━━━━━━━━┳━━━━━━━━━━━━━━━┓\n",
       "┃\u001b[1m \u001b[0m\u001b[1mLayer (type)                   \u001b[0m\u001b[1m \u001b[0m┃\u001b[1m \u001b[0m\u001b[1mOutput Shape          \u001b[0m\u001b[1m \u001b[0m┃\u001b[1m \u001b[0m\u001b[1m      Param #\u001b[0m\u001b[1m \u001b[0m┃\n",
       "┡━━━━━━━━━━━━━━━━━━━━━━━━━━━━━━━━━╇━━━━━━━━━━━━━━━━━━━━━━━━╇━━━━━━━━━━━━━━━┩\n",
       "│ lstm_2 (\u001b[38;5;33mLSTM\u001b[0m)                   │ (\u001b[38;5;45mNone\u001b[0m, \u001b[38;5;34m45\u001b[0m, \u001b[38;5;34m50\u001b[0m)         │        \u001b[38;5;34m10,400\u001b[0m │\n",
       "├─────────────────────────────────┼────────────────────────┼───────────────┤\n",
       "│ dropout_2 (\u001b[38;5;33mDropout\u001b[0m)             │ (\u001b[38;5;45mNone\u001b[0m, \u001b[38;5;34m45\u001b[0m, \u001b[38;5;34m50\u001b[0m)         │             \u001b[38;5;34m0\u001b[0m │\n",
       "├─────────────────────────────────┼────────────────────────┼───────────────┤\n",
       "│ lstm_3 (\u001b[38;5;33mLSTM\u001b[0m)                   │ (\u001b[38;5;45mNone\u001b[0m, \u001b[38;5;34m50\u001b[0m)             │        \u001b[38;5;34m20,200\u001b[0m │\n",
       "├─────────────────────────────────┼────────────────────────┼───────────────┤\n",
       "│ dropout_3 (\u001b[38;5;33mDropout\u001b[0m)             │ (\u001b[38;5;45mNone\u001b[0m, \u001b[38;5;34m50\u001b[0m)             │             \u001b[38;5;34m0\u001b[0m │\n",
       "├─────────────────────────────────┼────────────────────────┼───────────────┤\n",
       "│ dense_1 (\u001b[38;5;33mDense\u001b[0m)                 │ (\u001b[38;5;45mNone\u001b[0m, \u001b[38;5;34m1\u001b[0m)              │            \u001b[38;5;34m51\u001b[0m │\n",
       "└─────────────────────────────────┴────────────────────────┴───────────────┘\n"
      ]
     },
     "metadata": {},
     "output_type": "display_data"
    },
    {
     "data": {
      "text/html": [
       "<pre style=\"white-space:pre;overflow-x:auto;line-height:normal;font-family:Menlo,'DejaVu Sans Mono',consolas,'Courier New',monospace\"><span style=\"font-weight: bold\"> Total params: </span><span style=\"color: #00af00; text-decoration-color: #00af00\">30,651</span> (119.73 KB)\n",
       "</pre>\n"
      ],
      "text/plain": [
       "\u001b[1m Total params: \u001b[0m\u001b[38;5;34m30,651\u001b[0m (119.73 KB)\n"
      ]
     },
     "metadata": {},
     "output_type": "display_data"
    },
    {
     "data": {
      "text/html": [
       "<pre style=\"white-space:pre;overflow-x:auto;line-height:normal;font-family:Menlo,'DejaVu Sans Mono',consolas,'Courier New',monospace\"><span style=\"font-weight: bold\"> Trainable params: </span><span style=\"color: #00af00; text-decoration-color: #00af00\">30,651</span> (119.73 KB)\n",
       "</pre>\n"
      ],
      "text/plain": [
       "\u001b[1m Trainable params: \u001b[0m\u001b[38;5;34m30,651\u001b[0m (119.73 KB)\n"
      ]
     },
     "metadata": {},
     "output_type": "display_data"
    },
    {
     "data": {
      "text/html": [
       "<pre style=\"white-space:pre;overflow-x:auto;line-height:normal;font-family:Menlo,'DejaVu Sans Mono',consolas,'Courier New',monospace\"><span style=\"font-weight: bold\"> Non-trainable params: </span><span style=\"color: #00af00; text-decoration-color: #00af00\">0</span> (0.00 B)\n",
       "</pre>\n"
      ],
      "text/plain": [
       "\u001b[1m Non-trainable params: \u001b[0m\u001b[38;5;34m0\u001b[0m (0.00 B)\n"
      ]
     },
     "metadata": {},
     "output_type": "display_data"
    }
   ],
   "source": [
    "# Print Model Summary to Verify\n",
    "lstm_model.summary()"
   ]
  },
  {
   "cell_type": "code",
   "execution_count": 22,
   "metadata": {},
   "outputs": [
    {
     "name": "stdout",
     "output_type": "stream",
     "text": [
      "Epoch 1/20\n",
      "\u001b[1m45/45\u001b[0m \u001b[32m━━━━━━━━━━━━━━━━━━━━\u001b[0m\u001b[37m\u001b[0m \u001b[1m3s\u001b[0m 18ms/step - loss: 0.1779 - val_loss: 0.1770\n",
      "Epoch 2/20\n",
      "\u001b[1m45/45\u001b[0m \u001b[32m━━━━━━━━━━━━━━━━━━━━\u001b[0m\u001b[37m\u001b[0m \u001b[1m1s\u001b[0m 12ms/step - loss: 0.1619 - val_loss: 0.1743\n",
      "Epoch 3/20\n",
      "\u001b[1m45/45\u001b[0m \u001b[32m━━━━━━━━━━━━━━━━━━━━\u001b[0m\u001b[37m\u001b[0m \u001b[1m1s\u001b[0m 13ms/step - loss: 0.1616 - val_loss: 0.1711\n",
      "Epoch 4/20\n",
      "\u001b[1m45/45\u001b[0m \u001b[32m━━━━━━━━━━━━━━━━━━━━\u001b[0m\u001b[37m\u001b[0m \u001b[1m1s\u001b[0m 12ms/step - loss: 0.1662 - val_loss: 0.1700\n",
      "Epoch 5/20\n",
      "\u001b[1m45/45\u001b[0m \u001b[32m━━━━━━━━━━━━━━━━━━━━\u001b[0m\u001b[37m\u001b[0m \u001b[1m1s\u001b[0m 13ms/step - loss: 0.1641 - val_loss: 0.1695\n",
      "Epoch 6/20\n",
      "\u001b[1m45/45\u001b[0m \u001b[32m━━━━━━━━━━━━━━━━━━━━\u001b[0m\u001b[37m\u001b[0m \u001b[1m1s\u001b[0m 12ms/step - loss: 0.1542 - val_loss: 0.1610\n",
      "Epoch 7/20\n",
      "\u001b[1m45/45\u001b[0m \u001b[32m━━━━━━━━━━━━━━━━━━━━\u001b[0m\u001b[37m\u001b[0m \u001b[1m1s\u001b[0m 13ms/step - loss: 0.1545 - val_loss: 0.1485\n",
      "Epoch 8/20\n",
      "\u001b[1m45/45\u001b[0m \u001b[32m━━━━━━━━━━━━━━━━━━━━\u001b[0m\u001b[37m\u001b[0m \u001b[1m1s\u001b[0m 13ms/step - loss: 0.1335 - val_loss: 0.1353\n",
      "Epoch 9/20\n",
      "\u001b[1m45/45\u001b[0m \u001b[32m━━━━━━━━━━━━━━━━━━━━\u001b[0m\u001b[37m\u001b[0m \u001b[1m1s\u001b[0m 13ms/step - loss: 0.1392 - val_loss: 0.1300\n",
      "Epoch 10/20\n",
      "\u001b[1m45/45\u001b[0m \u001b[32m━━━━━━━━━━━━━━━━━━━━\u001b[0m\u001b[37m\u001b[0m \u001b[1m1s\u001b[0m 12ms/step - loss: 0.1259 - val_loss: 0.1225\n",
      "Epoch 11/20\n",
      "\u001b[1m45/45\u001b[0m \u001b[32m━━━━━━━━━━━━━━━━━━━━\u001b[0m\u001b[37m\u001b[0m \u001b[1m1s\u001b[0m 13ms/step - loss: 0.1207 - val_loss: 0.1201\n",
      "Epoch 12/20\n",
      "\u001b[1m45/45\u001b[0m \u001b[32m━━━━━━━━━━━━━━━━━━━━\u001b[0m\u001b[37m\u001b[0m \u001b[1m1s\u001b[0m 12ms/step - loss: 0.1126 - val_loss: 0.1147\n",
      "Epoch 13/20\n",
      "\u001b[1m45/45\u001b[0m \u001b[32m━━━━━━━━━━━━━━━━━━━━\u001b[0m\u001b[37m\u001b[0m \u001b[1m1s\u001b[0m 12ms/step - loss: 0.1113 - val_loss: 0.1116\n",
      "Epoch 14/20\n",
      "\u001b[1m45/45\u001b[0m \u001b[32m━━━━━━━━━━━━━━━━━━━━\u001b[0m\u001b[37m\u001b[0m \u001b[1m1s\u001b[0m 13ms/step - loss: 0.1115 - val_loss: 0.1150\n",
      "Epoch 15/20\n",
      "\u001b[1m45/45\u001b[0m \u001b[32m━━━━━━━━━━━━━━━━━━━━\u001b[0m\u001b[37m\u001b[0m \u001b[1m1s\u001b[0m 13ms/step - loss: 0.1121 - val_loss: 0.1132\n",
      "Epoch 16/20\n",
      "\u001b[1m45/45\u001b[0m \u001b[32m━━━━━━━━━━━━━━━━━━━━\u001b[0m\u001b[37m\u001b[0m \u001b[1m1s\u001b[0m 12ms/step - loss: 0.1036 - val_loss: 0.1085\n",
      "Epoch 17/20\n",
      "\u001b[1m45/45\u001b[0m \u001b[32m━━━━━━━━━━━━━━━━━━━━\u001b[0m\u001b[37m\u001b[0m \u001b[1m1s\u001b[0m 13ms/step - loss: 0.1050 - val_loss: 0.1070\n",
      "Epoch 18/20\n",
      "\u001b[1m45/45\u001b[0m \u001b[32m━━━━━━━━━━━━━━━━━━━━\u001b[0m\u001b[37m\u001b[0m \u001b[1m1s\u001b[0m 12ms/step - loss: 0.1035 - val_loss: 0.1076\n",
      "Epoch 19/20\n",
      "\u001b[1m45/45\u001b[0m \u001b[32m━━━━━━━━━━━━━━━━━━━━\u001b[0m\u001b[37m\u001b[0m \u001b[1m1s\u001b[0m 13ms/step - loss: 0.1039 - val_loss: 0.0999\n",
      "Epoch 20/20\n",
      "\u001b[1m45/45\u001b[0m \u001b[32m━━━━━━━━━━━━━━━━━━━━\u001b[0m\u001b[37m\u001b[0m \u001b[1m1s\u001b[0m 13ms/step - loss: 0.0955 - val_loss: 0.0943\n"
     ]
    }
   ],
   "source": [
    "# Train the Model\n",
    "history = lstm_model.fit(X_train, y_train, epochs=20, batch_size=16, validation_data=(X_test, y_test))"
   ]
  },
  {
   "cell_type": "code",
   "execution_count": 23,
   "metadata": {},
   "outputs": [
    {
     "data": {
      "image/png": "[encoded data removed]",
      "text/plain": [
       "<Figure size 800x400 with 1 Axes>"
      ]
     },
     "metadata": {},
     "output_type": "display_data"
    }
   ],
   "source": [
    "# Plot Training Loss\n",
    "plt.figure(figsize=(8, 4))\n",
    "plt.plot(history.history['loss'], label=\"Train Loss\")\n",
    "plt.plot(history.history['val_loss'], label=\"Validation Loss\")\n",
    "plt.legend()\n",
    "plt.title(\"LSTM Training Loss\")\n",
    "plt.show()"
   ]
  },
  {
   "cell_type": "code",
   "execution_count": 24,
   "metadata": {},
   "outputs": [
    {
     "name": "stdout",
     "output_type": "stream",
     "text": [
      "\u001b[1m6/6\u001b[0m \u001b[32m━━━━━━━━━━━━━━━━━━━━\u001b[0m\u001b[37m\u001b[0m \u001b[1m0s\u001b[0m 40ms/step\n"
     ]
    }
   ],
   "source": [
    "# Step 8: Make Predictions\n",
    "y_pred = lstm_model.predict(X_test)"
   ]
  },
  {
   "cell_type": "code",
   "execution_count": 25,
   "metadata": {},
   "outputs": [
    {
     "data": {
      "text/plain": [
       "array([[-0.03440096],\n",
       "       [ 0.01402752],\n",
       "       [-0.02635174],\n",
       "       [-0.14149226],\n",
       "       [-0.30256677],\n",
       "       [-0.47684318],\n",
       "       [-0.64221734],\n",
       "       [ 0.01884231],\n",
       "       [-0.05278066],\n",
       "       [-0.124539  ],\n",
       "       [-0.22177906],\n",
       "       [-0.3453169 ],\n",
       "       [-0.4744533 ],\n",
       "       [-0.59436995],\n",
       "       [ 0.09288555],\n",
       "       [ 0.0993153 ],\n",
       "       [ 0.0438317 ],\n",
       "       [-0.07738036],\n",
       "       [-0.24007179],\n",
       "       [-0.42467758],\n",
       "       [-0.6057632 ],\n",
       "       [ 0.00492406],\n",
       "       [-0.0787831 ],\n",
       "       [-0.15505871],\n",
       "       [-0.25960803],\n",
       "       [-0.38479635],\n",
       "       [-0.5105169 ],\n",
       "       [-0.625668  ],\n",
       "       [ 0.08067361],\n",
       "       [ 0.14617804],\n",
       "       [ 0.11376514],\n",
       "       [-0.02036137],\n",
       "       [-0.20512041],\n",
       "       [-0.41330573],\n",
       "       [-0.6197144 ],\n",
       "       [-0.03246585],\n",
       "       [-0.09675446],\n",
       "       [-0.16873702],\n",
       "       [-0.27205402],\n",
       "       [-0.39727014],\n",
       "       [-0.5249388 ],\n",
       "       [-0.637443  ],\n",
       "       [ 0.09396102],\n",
       "       [ 0.15851481],\n",
       "       [ 0.11916696],\n",
       "       [-0.02195924],\n",
       "       [-0.20695007],\n",
       "       [-0.4140884 ],\n",
       "       [-0.61652654],\n",
       "       [-0.02553011],\n",
       "       [-0.09038015],\n",
       "       [-0.16265221],\n",
       "       [-0.2671873 ],\n",
       "       [-0.39395648],\n",
       "       [-0.5230984 ],\n",
       "       [-0.6375375 ],\n",
       "       [ 0.09266049],\n",
       "       [ 0.21530885],\n",
       "       [ 0.24672318],\n",
       "       [ 0.14546052],\n",
       "       [-0.0208968 ],\n",
       "       [-0.1861373 ],\n",
       "       [-0.37937889],\n",
       "       [-0.23667333],\n",
       "       [-0.17056288],\n",
       "       [-0.20959517],\n",
       "       [-0.29301855],\n",
       "       [-0.41631994],\n",
       "       [-0.55267835],\n",
       "       [-0.67584795],\n",
       "       [ 0.05362248],\n",
       "       [ 0.13179737],\n",
       "       [ 0.10311429],\n",
       "       [-0.03462934],\n",
       "       [-0.21408074],\n",
       "       [-0.41369092],\n",
       "       [-0.6140555 ],\n",
       "       [-0.03308325],\n",
       "       [-0.09825595],\n",
       "       [-0.17007598],\n",
       "       [-0.27248424],\n",
       "       [-0.39598617],\n",
       "       [-0.5224278 ],\n",
       "       [-0.6314016 ],\n",
       "       [ 0.10573338],\n",
       "       [ 0.15792282],\n",
       "       [ 0.12652121],\n",
       "       [ 0.01193846],\n",
       "       [-0.1153161 ],\n",
       "       [-0.16575095],\n",
       "       [-0.28795773],\n",
       "       [-0.17212081],\n",
       "       [-0.12728855],\n",
       "       [-0.1731618 ],\n",
       "       [-0.28635538],\n",
       "       [-0.43589598],\n",
       "       [-0.5905365 ],\n",
       "       [-0.72825116],\n",
       "       [ 0.03456715],\n",
       "       [-0.02771452],\n",
       "       [-0.09493472],\n",
       "       [-0.17257509],\n",
       "       [-0.017155  ],\n",
       "       [-0.05914917],\n",
       "       [-0.14747599],\n",
       "       [-0.05173607],\n",
       "       [-0.03972118],\n",
       "       [-0.10074304],\n",
       "       [-0.23270069],\n",
       "       [-0.4062433 ],\n",
       "       [-0.584501  ],\n",
       "       [-0.74113286],\n",
       "       [ 0.02800867],\n",
       "       [ 0.06191614],\n",
       "       [-0.00251991],\n",
       "       [-0.09364314],\n",
       "       [-0.21770777],\n",
       "       [-0.36037537],\n",
       "       [-0.5180689 ],\n",
       "       [-0.02454833],\n",
       "       [ 0.07121736],\n",
       "       [ 0.05478388],\n",
       "       [-0.05285127],\n",
       "       [-0.25757575],\n",
       "       [-0.4505153 ],\n",
       "       [-0.6499194 ],\n",
       "       [-0.06023469],\n",
       "       [-0.10197075],\n",
       "       [-0.16592544],\n",
       "       [-0.26781738],\n",
       "       [-0.39432845],\n",
       "       [-0.52429813],\n",
       "       [-0.63766074],\n",
       "       [ 0.09503831],\n",
       "       [ 0.18789475],\n",
       "       [ 0.17129104],\n",
       "       [ 0.03231556],\n",
       "       [-0.16508263],\n",
       "       [-0.38810715],\n",
       "       [-0.60922986],\n",
       "       [-0.05665873],\n",
       "       [-0.1193765 ],\n",
       "       [-0.1891398 ],\n",
       "       [-0.29115403],\n",
       "       [-0.41394705],\n",
       "       [-0.53809416],\n",
       "       [-0.64426947],\n",
       "       [ 0.10032603],\n",
       "       [ 0.20425323],\n",
       "       [ 0.24733481],\n",
       "       [ 0.11110622],\n",
       "       [-0.11160503],\n",
       "       [-0.36573303],\n",
       "       [-0.62009573],\n",
       "       [-0.1103152 ],\n",
       "       [-0.1467774 ],\n",
       "       [-0.21264863],\n",
       "       [-0.31550413],\n",
       "       [-0.43934667],\n",
       "       [-0.562878  ],\n",
       "       [-0.6640629 ],\n",
       "       [ 0.09393473],\n",
       "       [ 0.16045648],\n",
       "       [ 0.13440144],\n",
       "       [ 0.0086329 ],\n",
       "       [-0.16893895],\n",
       "       [-0.3811916 ],\n",
       "       [-0.590727  ],\n",
       "       [-0.04316524],\n",
       "       [-0.09111743],\n",
       "       [-0.16061766],\n",
       "       [-0.26551956],\n",
       "       [-0.39250806],\n",
       "       [-0.5229692 ],\n",
       "       [-0.63444966],\n",
       "       [ 0.09064771],\n",
       "       [ 0.15049158],\n",
       "       [ 0.11744517],\n",
       "       [-0.01257594],\n",
       "       [-0.18288153]], dtype=float32)"
      ]
     },
     "execution_count": 25,
     "metadata": {},
     "output_type": "execute_result"
    }
   ],
   "source": [
    "y_pred"
   ]
  },
  {
   "cell_type": "code",
   "execution_count": 26,
   "metadata": {},
   "outputs": [],
   "source": [
    "# Convert Predictions Back to Original Scale\n",
    "y_pred_original = scaler.inverse_transform(y_pred)\n",
    "y_test_original = scaler.inverse_transform(y_test.reshape(-1, 1))"
   ]
  },
  {
   "cell_type": "code",
   "execution_count": 27,
   "metadata": {},
   "outputs": [
    {
     "data": {
      "text/plain": [
       "(array([[7593331.5],\n",
       "        [7969289. ],\n",
       "        [7655819. ],\n",
       "        [6761965. ],\n",
       "        [5511518.5],\n",
       "        [4158583.5],\n",
       "        [2874758. ],\n",
       "        [8006667.5],\n",
       "        [7450647. ],\n",
       "        [6893575.5],\n",
       "        [6138686. ],\n",
       "        [5179642.5],\n",
       "        [4177136.2],\n",
       "        [3246204.8],\n",
       "        [8581476. ],\n",
       "        [8631392. ],\n",
       "        [8200664. ],\n",
       "        [7259676. ],\n",
       "        [5996677. ],\n",
       "        [4563553. ],\n",
       "        [3157757. ],\n",
       "        [7898618. ],\n",
       "        [7248786. ],\n",
       "        [6656646.5],\n",
       "        [5845014. ],\n",
       "        [4873157. ],\n",
       "        [3897169.2],\n",
       "        [3003233. ],\n",
       "        [8486673. ],\n",
       "        [8995194. ],\n",
       "        [8743568. ],\n",
       "        [7702323. ],\n",
       "        [6268009.5],\n",
       "        [4651834.5],\n",
       "        [3049452. ],\n",
       "        [7608354. ],\n",
       "        [7109271.5],\n",
       "        [6550459.5],\n",
       "        [5748393.5],\n",
       "        [4776321.5],\n",
       "        [3785209.2],\n",
       "        [2911821.8],\n",
       "        [8589826. ],\n",
       "        [9090967. ],\n",
       "        [8785503. ],\n",
       "        [7689918.5],\n",
       "        [6253806. ],\n",
       "        [4645758.5],\n",
       "        [3074199.5],\n",
       "        [7662197.5],\n",
       "        [7158756.5],\n",
       "        [6597697. ],\n",
       "        [5786175. ],\n",
       "        [4802046. ],\n",
       "        [3799496.8],\n",
       "        [2911088.2],\n",
       "        [8579729. ],\n",
       "        [9531867. ],\n",
       "        [9775742. ],\n",
       "        [8989624. ],\n",
       "        [7698166.5],\n",
       "        [6415378.5],\n",
       "        [4915213.5],\n",
       "        [6023059.5],\n",
       "        [6536285.5],\n",
       "        [6233271. ],\n",
       "        [5585642.5],\n",
       "        [4628434.5],\n",
       "        [3569863. ],\n",
       "        [2613678.2],\n",
       "        [8276671.5],\n",
       "        [8883555. ],\n",
       "        [8660884. ],\n",
       "        [7591558.5],\n",
       "        [6198449. ],\n",
       "        [4648844. ],\n",
       "        [3093382.5],\n",
       "        [7603561. ],\n",
       "        [7097615.5],\n",
       "        [6540065. ],\n",
       "        [5745054. ],\n",
       "        [4786289. ],\n",
       "        [3804702.8],\n",
       "        [2958722.2],\n",
       "        [8681216. ],\n",
       "        [9086372. ],\n",
       "        [8842596. ],\n",
       "        [7953071.5],\n",
       "        [6965174.5],\n",
       "        [6573641. ],\n",
       "        [5624930.5],\n",
       "        [6524191. ],\n",
       "        [6872230.5],\n",
       "        [6516109.5],\n",
       "        [5637370. ],\n",
       "        [4476463. ],\n",
       "        [3275964.5],\n",
       "        [2206863.8],\n",
       "        [8128741.5],\n",
       "        [7645239. ],\n",
       "        [7123398.5],\n",
       "        [6520664. ],\n",
       "        [7727214.5],\n",
       "        [7401207. ],\n",
       "        [6715512. ],\n",
       "        [7458756.5],\n",
       "        [7552030. ],\n",
       "        [7078307.5],\n",
       "        [6053899.5],\n",
       "        [4706661. ],\n",
       "        [3322818.8],\n",
       "        [2106861.2],\n",
       "        [8077827.5],\n",
       "        [8341056. ],\n",
       "        [7840828.5],\n",
       "        [7133425.5],\n",
       "        [6170292. ],\n",
       "        [5062741. ],\n",
       "        [3838541.5],\n",
       "        [7669819. ],\n",
       "        [8413263. ],\n",
       "        [8285687. ],\n",
       "        [7450099. ],\n",
       "        [5860790.5],\n",
       "        [4362970.5],\n",
       "        [2814965.8],\n",
       "        [7392780. ],\n",
       "        [7068777. ],\n",
       "        [6572286.5],\n",
       "        [5781283.5],\n",
       "        [4799158. ],\n",
       "        [3790183.2],\n",
       "        [2910131.5],\n",
       "        [8598189. ],\n",
       "        [9319048. ],\n",
       "        [9190150. ],\n",
       "        [8111262. ],\n",
       "        [6578829.5],\n",
       "        [4847455. ],\n",
       "        [3130844.8],\n",
       "        [7420541. ],\n",
       "        [6933653.5],\n",
       "        [6392070. ],\n",
       "        [5600117.5],\n",
       "        [4646856. ],\n",
       "        [3683082.5],\n",
       "        [2858827. ],\n",
       "        [8639239. ],\n",
       "        [9446041. ],\n",
       "        [9780491. ],\n",
       "        [8722926. ],\n",
       "        [6993984. ],\n",
       "        [5021149. ],\n",
       "        [3046491.5],\n",
       "        [7003997.5],\n",
       "        [6720935.5],\n",
       "        [6209567. ],\n",
       "        [5411083.5],\n",
       "        [4449674.5],\n",
       "        [3490681.5],\n",
       "        [2705167.2],\n",
       "        [8589622. ],\n",
       "        [9106040. ],\n",
       "        [8903771. ],\n",
       "        [7927410. ],\n",
       "        [6548892. ],\n",
       "        [4901141.5],\n",
       "        [3274485.8],\n",
       "        [7525293. ],\n",
       "        [7153032.5],\n",
       "        [6613491.5],\n",
       "        [5799121.5],\n",
       "        [4813290. ],\n",
       "        [3800500. ],\n",
       "        [2935059.5],\n",
       "        [8564104. ],\n",
       "        [9028681. ],\n",
       "        [8772136. ],\n",
       "        [7762762.5],\n",
       "        [6440653.5]], dtype=float32),\n",
       " array([[10291172.],\n",
       "        [ 8904680.],\n",
       "        [ 8136074.],\n",
       "        [ 7973916.],\n",
       "        [ 8439787.],\n",
       "        [ 6594669.],\n",
       "        [  208209.],\n",
       "        [ 6477197.],\n",
       "        [ 6345089.],\n",
       "        [ 6393495.],\n",
       "        [ 6151076.],\n",
       "        [ 7212357.],\n",
       "        [ 6701361.],\n",
       "        [  217257.],\n",
       "        [ 9321996.],\n",
       "        [ 8299474.],\n",
       "        [ 8058390.],\n",
       "        [ 8031173.],\n",
       "        [ 8094451.],\n",
       "        [ 6290922.],\n",
       "        [  199419.],\n",
       "        [ 5984980.],\n",
       "        [ 6021986.],\n",
       "        [ 6028364.],\n",
       "        [ 6471718.],\n",
       "        [ 7778945.],\n",
       "        [ 7421745.],\n",
       "        [  228942.],\n",
       "        [10933146.],\n",
       "        [ 9234921.],\n",
       "        [ 8421680.],\n",
       "        [ 8263354.],\n",
       "        [ 8504508.],\n",
       "        [ 6565020.],\n",
       "        [  201341.],\n",
       "        [ 6765029.],\n",
       "        [ 6211021.],\n",
       "        [ 6272025.],\n",
       "        [ 6376255.],\n",
       "        [ 6942094.],\n",
       "        [ 6625997.],\n",
       "        [  244505.],\n",
       "        [10877344.],\n",
       "        [ 8792886.],\n",
       "        [ 7993269.],\n",
       "        [ 8073881.],\n",
       "        [ 8291098.],\n",
       "        [ 6398094.],\n",
       "        [  235852.],\n",
       "        [ 6788834.],\n",
       "        [ 6226359.],\n",
       "        [ 6073784.],\n",
       "        [ 6362734.],\n",
       "        [ 7078009.],\n",
       "        [ 6829093.],\n",
       "        [  226242.],\n",
       "        [12371453.],\n",
       "        [11222913.],\n",
       "        [11102030.],\n",
       "        [11400447.],\n",
       "        [  242473.],\n",
       "        [ 9366558.],\n",
       "        [  217211.],\n",
       "        [  272921.],\n",
       "        [ 7896155.],\n",
       "        [ 6790649.],\n",
       "        [ 6560475.],\n",
       "        [ 6669239.],\n",
       "        [ 6445499.],\n",
       "        [  244956.],\n",
       "        [11075002.],\n",
       "        [ 9166055.],\n",
       "        [ 8002511.],\n",
       "        [ 8396675.],\n",
       "        [ 8738327.],\n",
       "        [ 6569186.],\n",
       "        [  237342.],\n",
       "        [ 6588863.],\n",
       "        [ 6039464.],\n",
       "        [ 6082195.],\n",
       "        [ 6153519.],\n",
       "        [ 6367560.],\n",
       "        [ 6305451.],\n",
       "        [  234093.],\n",
       "        [10605500.],\n",
       "        [ 9302980.],\n",
       "        [ 9517703.],\n",
       "        [11327847.],\n",
       "        [  264231.],\n",
       "        [ 8764984.],\n",
       "        [  249207.],\n",
       "        [10995906.],\n",
       "        [ 8778928.],\n",
       "        [ 8633577.],\n",
       "        [ 8550616.],\n",
       "        [ 8665512.],\n",
       "        [ 7157061.],\n",
       "        [  251720.],\n",
       "        [ 6732629.],\n",
       "        [ 6686277.],\n",
       "        [ 8147927.],\n",
       "        [  289247.],\n",
       "        [ 8596524.],\n",
       "        [ 6497847.],\n",
       "        [  255680.],\n",
       "        [10603240.],\n",
       "        [ 8925994.],\n",
       "        [ 8355497.],\n",
       "        [ 8228411.],\n",
       "        [ 8352281.],\n",
       "        [ 6773815.],\n",
       "        [  261385.],\n",
       "        [  299473.],\n",
       "        [ 7776413.],\n",
       "        [ 6876443.],\n",
       "        [ 6974793.],\n",
       "        [ 8372820.],\n",
       "        [ 7546769.],\n",
       "        [  278690.],\n",
       "        [11743615.],\n",
       "        [ 9925193.],\n",
       "        [ 9731791.],\n",
       "        [ 3534231.],\n",
       "        [ 9724893.],\n",
       "        [ 6478518.],\n",
       "        [  262497.],\n",
       "        [ 7366781.],\n",
       "        [ 6865990.],\n",
       "        [ 6524741.],\n",
       "        [ 6553081.],\n",
       "        [ 6606431.],\n",
       "        [ 6510261.],\n",
       "        [  269533.],\n",
       "        [11570100.],\n",
       "        [ 9636747.],\n",
       "        [ 8618478.],\n",
       "        [ 8191358.],\n",
       "        [ 8458252.],\n",
       "        [ 6390661.],\n",
       "        [  249849.],\n",
       "        [ 6552538.],\n",
       "        [ 6292372.],\n",
       "        [ 6257424.],\n",
       "        [ 6211764.],\n",
       "        [ 6634687.],\n",
       "        [ 6538314.],\n",
       "        [  262669.],\n",
       "        [11916672.],\n",
       "        [11483932.],\n",
       "        [ 8989672.],\n",
       "        [ 8446293.],\n",
       "        [ 8530388.],\n",
       "        [ 6054276.],\n",
       "        [  269248.],\n",
       "        [ 7540473.],\n",
       "        [ 6393024.],\n",
       "        [ 6915625.],\n",
       "        [ 6938182.],\n",
       "        [ 7064909.],\n",
       "        [ 6262022.],\n",
       "        [  277047.],\n",
       "        [10841267.],\n",
       "        [ 9340405.],\n",
       "        [ 8756137.],\n",
       "        [ 8373873.],\n",
       "        [ 7949337.],\n",
       "        [ 6448982.],\n",
       "        [  298418.],\n",
       "        [ 7339321.],\n",
       "        [ 6356482.],\n",
       "        [ 6110388.],\n",
       "        [ 6687068.],\n",
       "        [ 6601325.],\n",
       "        [ 6021666.],\n",
       "        [  285865.],\n",
       "        [10707292.],\n",
       "        [ 9115073.],\n",
       "        [ 8499962.],\n",
       "        [ 8798854.],\n",
       "        [10109742.]]))"
      ]
     },
     "execution_count": 27,
     "metadata": {},
     "output_type": "execute_result"
    }
   ],
   "source": [
    "y_pred_original,y_test_original"
   ]
  },
  {
   "cell_type": "code",
   "execution_count": 28,
   "metadata": {},
   "outputs": [
    {
     "data": {
      "image/png": "[encoded data removed]",
      "text/plain": [
       "<Figure size 1200x600 with 1 Axes>"
      ]
     },
     "metadata": {},
     "output_type": "display_data"
    }
   ],
   "source": [
    "# Plot Actual vs. Predicted Sales\n",
    "plt.figure(figsize=(12, 6))\n",
    "plt.plot(y_test_original, label=\"Actual Sales\", color=\"blue\")\n",
    "plt.plot(y_pred_original, label=\"Predicted Sales\", color=\"red\")\n",
    "plt.legend()\n",
    "plt.title(\"Actual vs. Predicted Sales (LSTM)\")\n",
    "plt.show()"
   ]
  },
  {
   "cell_type": "code",
   "execution_count": 35,
   "metadata": {},
   "outputs": [
    {
     "name": "stdout",
     "output_type": "stream",
     "text": [
      "LSTM Model Training & Prediction Completed Successfully!\n"
     ]
    }
   ],
   "source": [
    "print(\"LSTM Model Training & Prediction Completed Successfully!\")"
   ]
  },
  {
   "cell_type": "code",
   "execution_count": 36,
   "metadata": {},
   "outputs": [
    {
     "name": "stdout",
     "output_type": "stream",
     "text": [
      "LSTM Model saved as lstm_model_final.keras\n"
     ]
    }
   ],
   "source": [
    "# Save the trained LSTM model as .keras file\n",
    "lstm_model.save('./rossmann-store-sales/lstm_model_final.keras')\n",
    "\n",
    "print(\"LSTM Model saved as lstm_model_final.keras\")"
   ]
  },
  {
   "cell_type": "markdown",
   "metadata": {},
   "source": [
    "-----------------------------------------------------"
   ]
  },
  {
   "cell_type": "markdown",
   "metadata": {},
   "source": [
    "***Serving Predictions Using MLflow***"
   ]
  },
  {
   "cell_type": "code",
   "execution_count": 37,
   "metadata": {},
   "outputs": [
    {
     "name": "stderr",
     "output_type": "stream",
     "text": [
      "WARNING:urllib3.connectionpool:Retrying (Retry(total=6, connect=6, read=7, redirect=7, status=7)) after connection broken by 'NewConnectionError('<urllib3.connection.HTTPConnection object at 0x000002D3E5875E90>: Failed to establish a new connection: [WinError 10061] No connection could be made because the target machine actively refused it')': /api/2.0/mlflow/runs/create\n",
      "WARNING:urllib3.connectionpool:Retrying (Retry(total=5, connect=5, read=7, redirect=7, status=7)) after connection broken by 'NewConnectionError('<urllib3.connection.HTTPConnection object at 0x000002D3E20F8750>: Failed to establish a new connection: [WinError 10061] No connection could be made because the target machine actively refused it')': /api/2.0/mlflow/runs/create\n",
      "WARNING:urllib3.connectionpool:Retrying (Retry(total=4, connect=4, read=7, redirect=7, status=7)) after connection broken by 'NewConnectionError('<urllib3.connection.HTTPConnection object at 0x000002D3E20D1DD0>: Failed to establish a new connection: [WinError 10061] No connection could be made because the target machine actively refused it')': /api/2.0/mlflow/runs/create\n",
      "WARNING:urllib3.connectionpool:Retrying (Retry(total=3, connect=3, read=7, redirect=7, status=7)) after connection broken by 'NewConnectionError('<urllib3.connection.HTTPConnection object at 0x000002D3E20D0550>: Failed to establish a new connection: [WinError 10061] No connection could be made because the target machine actively refused it')': /api/2.0/mlflow/runs/create\n",
      "WARNING:urllib3.connectionpool:Retrying (Retry(total=2, connect=2, read=7, redirect=7, status=7)) after connection broken by 'NewConnectionError('<urllib3.connection.HTTPConnection object at 0x000002D3E5467990>: Failed to establish a new connection: [WinError 10061] No connection could be made because the target machine actively refused it')': /api/2.0/mlflow/runs/create\n",
      "2025/03/20 17:50:16 WARNING mlflow.keras.save: You are saving a Keras model without specifying model signature.\n",
      "2025/03/20 17:50:22 WARNING mlflow.models.model: Model logged without a signature and input example. Please set `input_example` parameter when logging the model to auto infer the model signature.\n"
     ]
    },
    {
     "name": "stdout",
     "output_type": "stream",
     "text": [
      "LSTM Model logged to MLflow successfully!\n",
      "🏃 View run valuable-dove-391 at: http://localhost:5000/#/experiments/0/runs/a31830d84e1448638f75a08bfbb19b13\n",
      "🧪 View experiment at: http://localhost:5000/#/experiments/0\n"
     ]
    }
   ],
   "source": [
    "# Log the trained model to MLflow\n",
    "with mlflow.start_run():\n",
    "    mlflow.keras.log_model(lstm_model, \"lstm_model\")\n",
    "    mlflow.log_param(\"epochs\", 20)\n",
    "    mlflow.log_param(\"batch_size\", 16)\n",
    "\n",
    "    print(\"LSTM Model logged to MLflow successfully!\")"
   ]
  }
 ],
 "metadata": {
  "kernelspec": {
   "display_name": "env",
   "language": "python",
   "name": "python3"
  },
  "language_info": {
   "codemirror_mode": {
    "name": "ipython",
    "version": 3
   },
   "file_extension": ".py",
   "mimetype": "text/x-python",
   "name": "python",
   "nbconvert_exporter": "python",
   "pygments_lexer": "ipython3",
   "version": "3.11.9"
  }
 },
 "nbformat": 4,
 "nbformat_minor": 2
}
